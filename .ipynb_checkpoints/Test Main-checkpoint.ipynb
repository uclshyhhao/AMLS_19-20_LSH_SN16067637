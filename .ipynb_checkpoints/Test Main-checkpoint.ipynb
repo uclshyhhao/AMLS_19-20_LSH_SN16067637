{
 "cells": [
  {
   "cell_type": "code",
   "execution_count": null,
   "metadata": {},
   "outputs": [],
   "source": [
    "import os\n",
    "import sys\n",
    "# sys.path.append(os.path.abspath(r\"//Users/shyhhao/Documents/AMLSassignment19_-20_LSH_SN16067637/AMLS_19-20_LSH_SN16067637/A1\"))\n",
    "# sys.path.append(os.path.abspath(r\"//Users/shyhhao/Documents/AMLSassignment19_-20_LSH_SN16067637/AMLS_19-20_LSH_SN16067637/A2\"))\n",
    "# sys.path.append(os.path.abspath(r\"//Users/shyhhao/Documents/AMLSassignment19_-20_LSH_SN16067637/AMLS_19-20_LSH_SN16067637/B1\"))\n",
    "# sys.path.append(os.path.abspath(r\"//Users/shyhhao/Documents/AMLSassignment19_-20_LSH_SN16067637/AMLS_19-20_LSH_SN16067637/B2\"))\n",
    "\n",
    "for extension in ['A1', 'A2', 'B1', 'B2']:\n",
    "    sys.path.append(os.getcwd() + '/' + extension)\n",
    "#     print(os.getcwd() + '/' + extension)\n",
    "\n",
    "\n",
    "# from Gender_A1 import *   \n",
    "# from Smiling_A2 import *\n",
    "# from Faceshape_B1 import *\n",
    "from EyeColor_B2 import *"
   ]
  },
  {
   "cell_type": "code",
   "execution_count": 9,
   "metadata": {},
   "outputs": [
    {
     "name": "stdout",
     "output_type": "stream",
     "text": [
      "Preparing testing dataset..\n",
      "Found 2000 validated image filenames belonging to 5 classes.\n"
     ]
    }
   ],
   "source": [
    "\n"
   ]
  },
  {
   "cell_type": "code",
   "execution_count": 12,
   "metadata": {},
   "outputs": [
    {
     "name": "stdout",
     "output_type": "stream",
     "text": [
      "Accuracy_B1 :0.987\n",
      "Precision_B1 :0.987033743475273\n",
      "Recall_B1 :0.9871692151952052\n",
      "F1 Score_B1 :0.9870860803704554\n"
     ]
    },
    {
     "name": "stderr",
     "output_type": "stream",
     "text": [
      "/Users/shyhhao/anaconda3/lib/python3.7/site-packages/sklearn/metrics/classification.py:1259: UserWarning: Note that pos_label (set to 'positive') is ignored when average != 'binary' (got 'macro'). You may use labels=[pos_label] to specify a single positive class.\n",
      "  % (pos_label, average), UserWarning)\n"
     ]
    }
   ],
   "source": []
  },
  {
   "cell_type": "code",
   "execution_count": null,
   "metadata": {},
   "outputs": [],
   "source": [
    "# Task A1: Run A1 accuracy test\n",
    "# from datetime import datetime\n",
    "# start = datetime.now()    \n",
    "# # tr_X_A1, tr_Y_A1, te_X_A1, te_Y_A1 = get_data_A1()\n",
    "# # model_A1 = A1_SVM(tr_X_A1, list(zip(*tr_Y_A1))[0], te_X_A1, list(zip(*te_Y_A1))[0])\n",
    "# # acc_A1_train, acc_A1_test, pred_A1 = model_A1\n",
    "# # print('TA1:{},{}'.format(acc_A1_train, acc_A1_test))\n",
    "# print(datetime.now() - start)\n",
    "\n",
    "# ======================================================================================================================\n",
    "# Task A2: Run A2 accuracy test\n",
    "# from datetime import datetime\n",
    "# start = datetime.now()\n",
    "# # tr_X_A2, tr_Y_A2, te_X_A2, te_Y_A2= get_data_A2()\n",
    "# # model_A2 = A2_SVM(tr_X_A2, list(zip(*tr_Y_A2))[0], te_X_A2, list(zip(*te_Y_A2))[0])\n",
    "# # acc_A2_train, acc_A2_test, pred_A2 = model_A2\n",
    "# # print('TA2:{},{}'.format(acc_A2_train, acc_A2_test))\n",
    "# print(datetime.now() - start)\n",
    "\n",
    "# ======================================================================================================================\n",
    "# Task B1: Run B1 accuracy test\n",
    "# SVM Function\n",
    "# from datetime import datetime\n",
    "# start = datetime.now()    \n",
    "# # tr_X_B1, tr_Y_B1, te_X_B1, te_Y_B1= get_data_B1()\n",
    "# # model_B1 = B1_SVM(tr_X_B1, list(zip(*tr_Y_B1))[0], te_X_B1, list(zip(*te_Y_B1))[0])\n",
    "# # acc_B1_train, acc_B1_test, pred_B1 = model_B1\n",
    "# # print('TB1:{},{}'.format(acc_B1_train, acc_B1_test))\n",
    "# print(datetime.now() - start)\n",
    "\n",
    "# CNN\n",
    "from datetime import datetime\n",
    "acc_B1 = accuracy_score(true_B1, pred_B1)\n",
    "rec_B1 = recall_score(true_B1, pred_B1, pos_label = 'positive', average ='macro') ## Weighted using macro\n",
    "pre_B1 = precision_score(true_B1,pred_B1, pos_label = 'positive', average ='macro') ## Weighted using macro\n",
    "f1_B1 = f1_score(true_B1,pred_B1, pos_label = 'positive', average ='macro') ## Weighted using macro\n",
    "print(datetime.now() - start)\n",
    "# ======================================================================================================================\n",
    "# Task B2: Run B2 accuracy test\n",
    "# SVM Function\n",
    "# from datetime import datetime\n",
    "# start = datetime.now()   \n",
    "# # tr_X_B2, tr_Y_B2, te_X_B2, te_Y_B2= get_data_B2()\n",
    "# # model_B2 = B2_SVM(tr_X_B2, list(zip(*tr_Y_B2))[0], te_X_B2, list(zip(*te_Y_B2))[0])\n",
    "# # acc_B2_train, acc_B2_test, pred_B2 = model_B2\n",
    "# # print('TB2:{},{}'.format(acc_B2_train, acc_B2_test))\n",
    "# print(datetime.now() - start)\n",
    "\n",
    "# CNN\n",
    "from datetime import datetime\n",
    "start = datetime.now()\n",
    "acc_B2 = accuracy_score(true_B2, pred_B2)\n",
    "rec_B2 = recall_score(true_B2, pred_B2, pos_label = 'positive', average ='macro') ## Weighted using macro\n",
    "pre_B2 = precision_score(true_B2,pred_B2, pos_label = 'positive', average ='macro') ## Weighted using macro\n",
    "f1_B2 = f1_score(true_B2,pred_B2, pos_label = 'positive', average ='macro') ## Weighted using macro\n",
    "print(datetime.now() - start)\n",
    "\n",
    "# ======================================================================================================================\n",
    "## Print SVM results with following format:\n",
    "print('TA1:{},{};TA2:{},{};TB1:{},{};TB2:{},{};'.format(acc_A1_train, acc_A1_test,\n",
    "                                                        acc_A2_train, acc_A2_test,\n",
    "                                                        acc_B1_train, acc_B1_test,\n",
    "                                                        acc_B2_train, acc_B2_test))\n",
    "\n",
    "## Print CNN Accuracy for B1 and B2\n",
    "print(\"Accuracy_B1 :\" + str(acc_B1))\n",
    "print(\"Precision_B1 :\" + str(pre_B1))\n",
    "print(\"Recall_B1 :\" + str(rec_B1))\n",
    "print(\"F1 Score_B1 :\" + str(f1_B1))\n",
    "\n",
    "print(\"Accuracy_B2 :\" + str(acc_B2))\n",
    "print(\"Precision_B2 :\" + str(pre_B2))\n",
    "print(\"Recall_B2 :\" + str(rec_B2))\n",
    "print(\"F1 Score_B2 :\" + str(f1_B2))\n"
   ]
  },
  {
   "cell_type": "code",
   "execution_count": null,
   "metadata": {},
   "outputs": [],
   "source": []
  }
 ],
 "metadata": {
  "kernelspec": {
   "display_name": "Python 3",
   "language": "python",
   "name": "python3"
  },
  "language_info": {
   "codemirror_mode": {
    "name": "ipython",
    "version": 3
   },
   "file_extension": ".py",
   "mimetype": "text/x-python",
   "name": "python",
   "nbconvert_exporter": "python",
   "pygments_lexer": "ipython3",
   "version": "3.7.3"
  }
 },
 "nbformat": 4,
 "nbformat_minor": 2
}
