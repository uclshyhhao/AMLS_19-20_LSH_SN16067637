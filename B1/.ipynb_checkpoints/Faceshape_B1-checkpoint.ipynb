{
 "cells": [
  {
   "cell_type": "code",
   "execution_count": 1,
   "metadata": {},
   "outputs": [
    {
     "name": "stderr",
     "output_type": "stream",
     "text": [
      "Using TensorFlow backend.\n",
      "/Users/shyhhao/anaconda3/lib/python3.7/site-packages/tensorflow/python/framework/dtypes.py:516: FutureWarning: Passing (type, 1) or '1type' as a synonym of type is deprecated; in a future version of numpy, it will be understood as (type, (1,)) / '(1,)type'.\n",
      "  _np_qint8 = np.dtype([(\"qint8\", np.int8, 1)])\n",
      "/Users/shyhhao/anaconda3/lib/python3.7/site-packages/tensorflow/python/framework/dtypes.py:517: FutureWarning: Passing (type, 1) or '1type' as a synonym of type is deprecated; in a future version of numpy, it will be understood as (type, (1,)) / '(1,)type'.\n",
      "  _np_quint8 = np.dtype([(\"quint8\", np.uint8, 1)])\n",
      "/Users/shyhhao/anaconda3/lib/python3.7/site-packages/tensorflow/python/framework/dtypes.py:518: FutureWarning: Passing (type, 1) or '1type' as a synonym of type is deprecated; in a future version of numpy, it will be understood as (type, (1,)) / '(1,)type'.\n",
      "  _np_qint16 = np.dtype([(\"qint16\", np.int16, 1)])\n",
      "/Users/shyhhao/anaconda3/lib/python3.7/site-packages/tensorflow/python/framework/dtypes.py:519: FutureWarning: Passing (type, 1) or '1type' as a synonym of type is deprecated; in a future version of numpy, it will be understood as (type, (1,)) / '(1,)type'.\n",
      "  _np_quint16 = np.dtype([(\"quint16\", np.uint16, 1)])\n",
      "/Users/shyhhao/anaconda3/lib/python3.7/site-packages/tensorflow/python/framework/dtypes.py:520: FutureWarning: Passing (type, 1) or '1type' as a synonym of type is deprecated; in a future version of numpy, it will be understood as (type, (1,)) / '(1,)type'.\n",
      "  _np_qint32 = np.dtype([(\"qint32\", np.int32, 1)])\n",
      "/Users/shyhhao/anaconda3/lib/python3.7/site-packages/tensorflow/python/framework/dtypes.py:525: FutureWarning: Passing (type, 1) or '1type' as a synonym of type is deprecated; in a future version of numpy, it will be understood as (type, (1,)) / '(1,)type'.\n",
      "  np_resource = np.dtype([(\"resource\", np.ubyte, 1)])\n",
      "/Users/shyhhao/anaconda3/lib/python3.7/site-packages/tensorboard/compat/tensorflow_stub/dtypes.py:541: FutureWarning: Passing (type, 1) or '1type' as a synonym of type is deprecated; in a future version of numpy, it will be understood as (type, (1,)) / '(1,)type'.\n",
      "  _np_qint8 = np.dtype([(\"qint8\", np.int8, 1)])\n",
      "/Users/shyhhao/anaconda3/lib/python3.7/site-packages/tensorboard/compat/tensorflow_stub/dtypes.py:542: FutureWarning: Passing (type, 1) or '1type' as a synonym of type is deprecated; in a future version of numpy, it will be understood as (type, (1,)) / '(1,)type'.\n",
      "  _np_quint8 = np.dtype([(\"quint8\", np.uint8, 1)])\n",
      "/Users/shyhhao/anaconda3/lib/python3.7/site-packages/tensorboard/compat/tensorflow_stub/dtypes.py:543: FutureWarning: Passing (type, 1) or '1type' as a synonym of type is deprecated; in a future version of numpy, it will be understood as (type, (1,)) / '(1,)type'.\n",
      "  _np_qint16 = np.dtype([(\"qint16\", np.int16, 1)])\n",
      "/Users/shyhhao/anaconda3/lib/python3.7/site-packages/tensorboard/compat/tensorflow_stub/dtypes.py:544: FutureWarning: Passing (type, 1) or '1type' as a synonym of type is deprecated; in a future version of numpy, it will be understood as (type, (1,)) / '(1,)type'.\n",
      "  _np_quint16 = np.dtype([(\"quint16\", np.uint16, 1)])\n",
      "/Users/shyhhao/anaconda3/lib/python3.7/site-packages/tensorboard/compat/tensorflow_stub/dtypes.py:545: FutureWarning: Passing (type, 1) or '1type' as a synonym of type is deprecated; in a future version of numpy, it will be understood as (type, (1,)) / '(1,)type'.\n",
      "  _np_qint32 = np.dtype([(\"qint32\", np.int32, 1)])\n",
      "/Users/shyhhao/anaconda3/lib/python3.7/site-packages/tensorboard/compat/tensorflow_stub/dtypes.py:550: FutureWarning: Passing (type, 1) or '1type' as a synonym of type is deprecated; in a future version of numpy, it will be understood as (type, (1,)) / '(1,)type'.\n",
      "  np_resource = np.dtype([(\"resource\", np.ubyte, 1)])\n"
     ]
    }
   ],
   "source": [
    "import os\n",
    "import sys\n",
    "sys.path.append(os.path.abspath(r\"//Users/shyhhao/Documents/AML_Assignment/AMLSassignment19_-20_SN16067637/B1\"))\n",
    "\n",
    "import B1_landmarks as b1\n",
    "import numpy as np\n",
    "import matplotlib.pyplot as plt\n",
    "from sklearn.metrics import classification_report,accuracy_score\n",
    "from sklearn import svm\n",
    "from sklearn.model_selection import train_test_split\n",
    "from sklearn.model_selection import GridSearchCV\n",
    "from sklearn.preprocessing import StandardScaler\n",
    "from sklearn.model_selection import learning_curve\n",
    "from sklearn.model_selection import ShuffleSplit\n",
    "from sklearn.metrics import confusion_matrix\n",
    "from matplotlib.colors import ListedColormap\n"
   ]
  },
  {
   "cell_type": "code",
   "execution_count": 2,
   "metadata": {},
   "outputs": [],
   "source": [
    "def get_data_B1():\n",
    "\n",
    "    X_B1, y_B1 = b1.extract_features_labels()\n",
    "    Y_B1 = np.array([y_B1, -(y_B1 - 1)]).T\n",
    "\n",
    "    # Rescaling Data\n",
    "    scaler = StandardScaler()\n",
    "    temp_X_reshape = X_B1.reshape(len(X_B1), len(X_B1[0]) * len(X_B1[0][0]))\n",
    "    temp_X_B1 = scaler.fit_transform(temp_X_reshape)\n",
    "\n",
    "    tr_X_B1, te_X_B1, tr_Y_B1, te_Y_B1 = train_test_split(temp_X_B1, Y_B1, test_size=0.3, random_state=0)\n",
    "\n",
    "#     print(tr_X_B1.shape)\n",
    "#     print(te_X_B1.shape)\n",
    "#     print(tr_Y_B1.shape)\n",
    "#     print(te_Y_B1.shape)\n",
    "    \n",
    "    return tr_X_B1, tr_Y_B1, te_X_B1, te_Y_B1\n"
   ]
  },
  {
   "cell_type": "code",
   "execution_count": 3,
   "metadata": {},
   "outputs": [],
   "source": [
    "def B1_SVM(training_images, training_labels, test_images, test_labels):\n",
    "#     classifier = svm.SVC(kernel='linear', C = 0.05)\n",
    "    tuned_parameters = [{'kernel': ['linear'], 'C': [1, 10, 100]},\n",
    "                        {'kernel': ['rbf'], 'gamma': [1e-3, 1e-4], 'C':[1, 10, 100]},\n",
    "                        {'kernel': ['poly'], 'degree': [2, 3], 'C': [1, 10, 100]}\n",
    "                        ]\n",
    "    classifier = GridSearchCV(svm.SVC(), tuned_parameters, n_jobs = -1)\n",
    "#     lab_enc = preprocessing.LabelEncoder()\n",
    "    classifier.fit(training_images, training_labels)\n",
    "                                \n",
    "#  SVM Accuracy\n",
    "    acc_B1_train = classifier.best_score_\n",
    "\n",
    "#  Choosing the best accuracy using GridSearchCV\n",
    "    pred_B1 = classifier.best_estimator_.predict(test_images)\n",
    "    acc_B1_test = accuracy_score(test_labels, pred_B1)\n",
    "    \n",
    "    print(classifier.best_estimator_)\n",
    "    print()\n",
    "    print(classifier.best_params_)\n",
    "    \n",
    "    return acc_B1_train, acc_B1_test, pred_B1\n",
    "#     pred = classifier.predict(test_images)\n",
    "#     print(pred)\n",
    "#     print(\"Accuracy:\", accuracy_score(test_labels, pred))\n",
    "    \n"
   ]
  },
  {
   "cell_type": "code",
   "execution_count": 4,
   "metadata": {},
   "outputs": [
    {
     "name": "stderr",
     "output_type": "stream",
     "text": [
      "/Users/shyhhao/anaconda3/lib/python3.7/site-packages/sklearn/model_selection/_split.py:1978: FutureWarning: The default value of cv will change from 3 to 5 in version 0.22. Specify it explicitly to silence this warning.\n",
      "  warnings.warn(CV_WARNING, FutureWarning)\n"
     ]
    },
    {
     "name": "stdout",
     "output_type": "stream",
     "text": [
      "SVC(C=100, cache_size=200, class_weight=None, coef0=0.0,\n",
      "    decision_function_shape='ovr', degree=3, gamma=0.001, kernel='rbf',\n",
      "    max_iter=-1, probability=False, random_state=None, shrinking=True,\n",
      "    tol=0.001, verbose=False)\n",
      "\n",
      "{'C': 100, 'gamma': 0.001, 'kernel': 'rbf'}\n",
      "TB1:0.7597210113339146,0.7751118340788938\n",
      "0:26:10.954972\n"
     ]
    }
   ],
   "source": [
    "# Run B1 accuracy test(MAIN.py)\n",
    "from datetime import datetime\n",
    "start = datetime.now()\n",
    "    \n",
    "tr_X_B1, tr_Y_B1, te_X_B1, te_Y_B1= get_data_B1()\n",
    "\n",
    "model_B1 = B1_SVM(tr_X_B1, list(zip(*tr_Y_B1))[0], te_X_B1, list(zip(*te_Y_B1))[0])\n",
    "\n",
    "acc_B1_train, acc_B1_test, pred_B1 = model_B1\n",
    "\n",
    "print('TB1:{},{}'.format(acc_B1_train, acc_B1_test))\n",
    "\n",
    "print(datetime.now() - start)\n",
    "\n",
    "###IGNORE BELOW, FOR DEBUGGING PURPOSES\n",
    "# from datetime import datetime\n",
    "# start = datetime.now()\n",
    "    \n",
    "# try:\n",
    "# \ttr_X_B1, tr_Y_B1, te_X_B1, te_Y_B1= get_data_B1()\n",
    "\n",
    "# \tmodel_B1 = B1_SVM(tr_X_B1, list(zip(*tr_Y_B1))[0], te_X_B1, list(zip(*te_Y_B1))[0])\n",
    "\n",
    "# \tacc_B1_train, acc_B1_test, pred_B1 = model_B1\n",
    "    \n",
    "#     print('TB1:{},{}'.format(acc_B1_train, acc_B1_test))\n",
    "# except Exception as e:\n",
    "# \tprint(e)\n",
    "\n",
    "# print(datetime.now() - start)"
   ]
  },
  {
   "cell_type": "code",
   "execution_count": 6,
   "metadata": {},
   "outputs": [],
   "source": [
    "def plot_learning_curve(estimator, title, X, y, ylim=None, cv=None,\n",
    "                        train_sizes=np.linspace(.1, 1.0, 5)):\n",
    "    \"\"\"\n",
    "    Generate a simple plot of the test and training learning curve.\n",
    "\n",
    "    Parameters\n",
    "    ----------\n",
    "    estimator : object type that implements the \"fit\" and \"predict\" methods\n",
    "        An object of that type which is cloned for each validation.\n",
    "\n",
    "    title : string\n",
    "        Title for the chart.\n",
    "\n",
    "    X : array-like, shape (n_samples, n_features)\n",
    "        Training vector, where n_samples is the number of samples and\n",
    "        n_features is the number of features.\n",
    "\n",
    "    y : array-like, shape (n_samples) or (n_samples, n_features), optional\n",
    "        Target relative to X for classification or regression;\n",
    "        None for unsupervised learning.\n",
    "\n",
    "    ylim : tuple, shape (ymin, ymax), optional\n",
    "        Defines minimum and maximum yvalues plotted.\n",
    "\n",
    "    cv : integer, cross-validation generator, optional\n",
    "        If an integer is passed, it is the number of folds (defaults to 3).\n",
    "        Specific cross-validation objects can be passed, see\n",
    "        sklearn.cross_validation module for the list of possible objects\n",
    "    \"\"\"\n",
    "    \n",
    "    if axes is None:\n",
    "        _, axes = plt.subplots(1, 3, figsize=(20, 5))\n",
    "\n",
    "    axes[0].set_title(title)\n",
    "    if ylim is not None:\n",
    "        axes[0].set_ylim(*ylim)\n",
    "    axes[0].set_xlabel(\"Training examples\")\n",
    "    axes[0].set_ylabel(\"Score\")\n",
    "\n",
    "    train_sizes, train_scores, test_scores, fit_times, _ = \\\n",
    "        learning_curve(estimator, X, y, cv=cv, n_jobs=n_jobs,\n",
    "                       train_sizes=train_sizes,\n",
    "                       return_times=True)\n",
    "    train_scores_mean = np.mean(train_scores, axis=1)\n",
    "    train_scores_std = np.std(train_scores, axis=1)\n",
    "    test_scores_mean = np.mean(test_scores, axis=1)\n",
    "    test_scores_std = np.std(test_scores, axis=1)\n",
    "    fit_times_mean = np.mean(fit_times, axis=1)\n",
    "    fit_times_std = np.std(fit_times, axis=1)\n",
    "    \n",
    "    # Plot learning curve\n",
    "    axes[0].grid()\n",
    "    axes[0].fill_between(train_sizes, train_scores_mean - train_scores_std,\n",
    "                         train_scores_mean + train_scores_std, alpha=0.1,\n",
    "                         color=\"r\")\n",
    "    axes[0].fill_between(train_sizes, test_scores_mean - test_scores_std,\n",
    "                         test_scores_mean + test_scores_std, alpha=0.1,\n",
    "                         color=\"g\")\n",
    "    axes[0].plot(train_sizes, train_scores_mean, 'o-', color=\"r\",\n",
    "                 label=\"Training score\")\n",
    "    axes[0].plot(train_sizes, test_scores_mean, 'o-', color=\"g\",\n",
    "                 label=\"Cross-validation score\")\n",
    "    axes[0].legend(loc=\"best\")\n",
    "\n",
    "    # Plot n_samples vs fit_times\n",
    "    axes[1].grid()\n",
    "    axes[1].plot(train_sizes, fit_times_mean, 'o-')\n",
    "    axes[1].fill_between(train_sizes, fit_times_mean - fit_times_std,\n",
    "                         fit_times_mean + fit_times_std, alpha=0.1)\n",
    "    axes[1].set_xlabel(\"Training examples\")\n",
    "    axes[1].set_ylabel(\"fit_times\")\n",
    "    axes[1].set_title(\"Scalability of the model\")\n",
    "\n",
    "    # Plot fit_time vs score\n",
    "    axes[2].grid()\n",
    "    axes[2].plot(fit_times_mean, test_scores_mean, 'o-')\n",
    "    axes[2].fill_between(fit_times_mean, test_scores_mean - test_scores_std,\n",
    "                         test_scores_mean + test_scores_std, alpha=0.1)\n",
    "    axes[2].set_xlabel(\"fit_times\")\n",
    "    axes[2].set_ylabel(\"Score\")\n",
    "    axes[2].set_title(\"Performance of the model\")\n",
    "\n",
    "    return plt"
   ]
  },
  {
   "cell_type": "code",
   "execution_count": 7,
   "metadata": {},
   "outputs": [],
   "source": [
    "def plot_learning_curve(estimator, title, X, y, ylim=None, cv=None,\n",
    "                        n_jobs=1, train_sizes=np.linspace(.1, 1.0, 5)):\n",
    "    \n",
    "    plt.figure()\n",
    "    plt.title(title)\n",
    "    if ylim is not None:\n",
    "        plt.ylim(*ylim)\n",
    "    plt.xlabel(\"Training examples\")\n",
    "    plt.ylabel(\"Score\")\n",
    "    train_sizes, train_scores, test_scores = learning_curve(\n",
    "        estimator, X, y, cv=cv, n_jobs=n_jobs, train_sizes=train_sizes)\n",
    "    train_scores_mean = np.mean(train_scores, axis=1)\n",
    "    train_scores_std = np.std(train_scores, axis=1)\n",
    "    test_scores_mean = np.mean(test_scores, axis=1)\n",
    "    test_scores_std = np.std(test_scores, axis=1)\n",
    "    plt.grid()\n",
    "\n",
    "    plt.fill_between(train_sizes, train_scores_mean - train_scores_std,\n",
    "                     train_scores_mean + train_scores_std, alpha=0.1,\n",
    "                     color=\"r\")\n",
    "    plt.fill_between(train_sizes, test_scores_mean - test_scores_std,\n",
    "                     test_scores_mean + test_scores_std, alpha=0.1, color=\"g\")\n",
    "    plt.plot(train_sizes, train_scores_mean, 'o-', color=\"r\",\n",
    "             label=\"Training score\")\n",
    "    plt.plot(train_sizes, test_scores_mean, 'o-', color=\"g\",\n",
    "             label=\"Cross-validation score\")\n",
    "\n",
    "    plt.legend(loc=\"best\")\n",
    "    return plt"
   ]
  },
  {
   "cell_type": "code",
   "execution_count": 27,
   "metadata": {},
   "outputs": [
    {
     "data": {
      "image/png": "[encoded data removed]",
      "text/plain": [
       "<Figure size 432x288 with 1 Axes>"
      ]
     },
     "metadata": {
      "needs_background": "light"
     },
     "output_type": "display_data"
    }
   ],
   "source": [
    "# Learning Curve\n",
    "title = \"Learning Curves SVM\"\n",
    "\n",
    "cv = ShuffleSplit(n_splits=100, test_size=0.2, random_state=0)\n",
    "estimator = svm.SVC(kernel='rbf', gamma=1e-3, C=100)\n",
    "X, y = tr_X_B1, list(zip(*tr_Y_B1))[0]\n",
    "plot_learning_curve(estimator, title, X, y, (0.6, 0.9), cv=cv, n_jobs=-1)\n",
    "\n",
    "plt.show()"
   ]
  },
  {
   "cell_type": "code",
   "execution_count": 28,
   "metadata": {},
   "outputs": [
    {
     "name": "stdout",
     "output_type": "stream",
     "text": [
      "[[358  42  29  11  37]\n",
      " [ 52 330  37  25  37]\n",
      " [ 10  19 442  24  20]\n",
      " [ 14  32  58 374  16]\n",
      " [ 31  17  28  14 402]]\n"
     ]
    },
    {
     "data": {
      "text/plain": [
       "<function matplotlib.pyplot.show(*args, **kw)>"
      ]
     },
     "execution_count": 28,
     "metadata": {},
     "output_type": "execute_result"
    },
    {
     "data": {
      "image/png": "[encoded data removed]",
      "text/plain": [
       "<Figure size 288x288 with 2 Axes>"
      ]
     },
     "metadata": {
      "needs_background": "light"
     },
     "output_type": "display_data"
    }
   ],
   "source": [
    "test_label = list(zip(*te_Y_B1))[0]\n",
    "cf = confusion_matrix(test_label, pred_B1)\n",
    "print(cf)\n",
    "\n",
    "cmap = plt.cm.Blues\n",
    "\n",
    "plt.matshow(cf, cmap = cmap)\n",
    "plt.title('Confusion matrix')\n",
    "plt.colorbar()\n",
    "plt.xlabel('predicted')\n",
    "plt.ylabel('actual')\n",
    "plt.show"
   ]
  },
  {
   "cell_type": "markdown",
   "metadata": {},
   "source": [
    "# Using CNN"
   ]
  },
  {
   "cell_type": "code",
   "execution_count": 25,
   "metadata": {},
   "outputs": [],
   "source": [
    "import os\n",
    "import numpy as np\n",
    "import matplotlib.pyplot as plt\n",
    "from sklearn import svm, datasets\n",
    "from sklearn.svm import SVC\n",
    "from sklearn.model_selection import train_test_split\n",
    "from sklearn.utils import shuffle\n",
    "from sklearn.metrics import classification_report, accuracy_score, confusion_matrix, recall_score, precision_score, f1_score\n",
    "import pandas as pd\n",
    "from sklearn import svm\n",
    "from keras.preprocessing.image import ImageDataGenerator\n",
    "\n",
    "srcdir = '/Users/shyhhao/Documents/AMLSassignment19_-20_LSH_SN16067637/AMLS_19-20_LSH_SN16067637/dataset_AMLS_19-20/dataset_AMLS_19-20/cartoon_set/img'"
   ]
  },
  {
   "cell_type": "code",
   "execution_count": 30,
   "metadata": {},
   "outputs": [
    {
     "data": {
      "text/html": [
       "<div>\n",
       "<style scoped>\n",
       "    .dataframe tbody tr th:only-of-type {\n",
       "        vertical-align: middle;\n",
       "    }\n",
       "\n",
       "    .dataframe tbody tr th {\n",
       "        vertical-align: top;\n",
       "    }\n",
       "\n",
       "    .dataframe thead th {\n",
       "        text-align: right;\n",
       "    }\n",
       "</style>\n",
       "<table border=\"1\" class=\"dataframe\">\n",
       "  <thead>\n",
       "    <tr style=\"text-align: right;\">\n",
       "      <th></th>\n",
       "      <th>face_shape</th>\n",
       "      <th>img_name</th>\n",
       "    </tr>\n",
       "  </thead>\n",
       "  <tbody>\n",
       "    <tr>\n",
       "      <th>0</th>\n",
       "      <td>4</td>\n",
       "      <td>0.png</td>\n",
       "    </tr>\n",
       "    <tr>\n",
       "      <th>1</th>\n",
       "      <td>4</td>\n",
       "      <td>1.png</td>\n",
       "    </tr>\n",
       "    <tr>\n",
       "      <th>2</th>\n",
       "      <td>3</td>\n",
       "      <td>2.png</td>\n",
       "    </tr>\n",
       "    <tr>\n",
       "      <th>3</th>\n",
       "      <td>0</td>\n",
       "      <td>3.png</td>\n",
       "    </tr>\n",
       "    <tr>\n",
       "      <th>4</th>\n",
       "      <td>2</td>\n",
       "      <td>4.png</td>\n",
       "    </tr>\n",
       "    <tr>\n",
       "      <th>...</th>\n",
       "      <td>...</td>\n",
       "      <td>...</td>\n",
       "    </tr>\n",
       "    <tr>\n",
       "      <th>9995</th>\n",
       "      <td>2</td>\n",
       "      <td>9995.png</td>\n",
       "    </tr>\n",
       "    <tr>\n",
       "      <th>9996</th>\n",
       "      <td>3</td>\n",
       "      <td>9996.png</td>\n",
       "    </tr>\n",
       "    <tr>\n",
       "      <th>9997</th>\n",
       "      <td>2</td>\n",
       "      <td>9997.png</td>\n",
       "    </tr>\n",
       "    <tr>\n",
       "      <th>9998</th>\n",
       "      <td>2</td>\n",
       "      <td>9998.png</td>\n",
       "    </tr>\n",
       "    <tr>\n",
       "      <th>9999</th>\n",
       "      <td>2</td>\n",
       "      <td>9999.png</td>\n",
       "    </tr>\n",
       "  </tbody>\n",
       "</table>\n",
       "<p>10000 rows × 2 columns</p>\n",
       "</div>"
      ],
      "text/plain": [
       "     face_shape  img_name\n",
       "0             4     0.png\n",
       "1             4     1.png\n",
       "2             3     2.png\n",
       "3             0     3.png\n",
       "4             2     4.png\n",
       "...         ...       ...\n",
       "9995          2  9995.png\n",
       "9996          3  9996.png\n",
       "9997          2  9997.png\n",
       "9998          2  9998.png\n",
       "9999          2  9999.png\n",
       "\n",
       "[10000 rows x 2 columns]"
      ]
     },
     "execution_count": 30,
     "metadata": {},
     "output_type": "execute_result"
    }
   ],
   "source": [
    "df = pd.read_csv(\"/Users/shyhhao/Documents/AMLSassignment19_-20_LSH_SN16067637/AMLS_19-20_LSH_SN16067637/dataset_AMLS_19-20/dataset_AMLS_19-20/cartoon_set/labels.csv\")\n",
    "df = pd.DataFrame(df).reset_index()\n",
    "df.columns = ['Index', 'Total']\n",
    "del df['Index']\n",
    "df['eye_color'] = df['Total'].str.split('\\t').str[1]\n",
    "df['face_shape'] = df['Total'].str.split('\\t').str[2]\n",
    "df['img_name'] = df['Total'].str.split('\\t').str[3]\n",
    "del df['Total']\n",
    "del df['eye_color']\n",
    "df"
   ]
  },
  {
   "cell_type": "code",
   "execution_count": 31,
   "metadata": {},
   "outputs": [
    {
     "name": "stdout",
     "output_type": "stream",
     "text": [
      "8000\n",
      "2000\n"
     ]
    }
   ],
   "source": [
    "train, test = train_test_split(df, test_size = 0.2, random_state = 0)\n",
    "print(len(train))\n",
    "print(len(test))"
   ]
  },
  {
   "cell_type": "code",
   "execution_count": 32,
   "metadata": {},
   "outputs": [
    {
     "name": "stdout",
     "output_type": "stream",
     "text": [
      "Receiving data..\n",
      "Arranging training dataset..\n",
      "Found 6000 validated image filenames belonging to 5 classes.\n",
      "Arranging validation dataset..\n",
      "Found 2000 validated image filenames belonging to 5 classes.\n"
     ]
    }
   ],
   "source": [
    "xcol = 'img_name'\n",
    "ycol = 'face_shape'\n",
    "\n",
    "print('Receiving data..')\n",
    "data = ImageDataGenerator(rescale = 1./255.,\n",
    "                          validation_split = 0.25,\n",
    "                          horizontal_flip = True,\n",
    "                          vertical_flip = True\n",
    "                         )\n",
    "\n",
    "print('Arranging training dataset..')\n",
    "train_gen = data.flow_from_dataframe(dataframe = train,\n",
    "                                     directory = srcdir,\n",
    "                                     x_col = xcol,\n",
    "                                     y_col = ycol,\n",
    "                                     class_mode = 'categorical',\n",
    "                                     target_size = (64,64),\n",
    "                                     batch_size = 32,\n",
    "                                     subset = 'training'\n",
    "                                    )\n",
    "\n",
    "print('Arranging validation dataset..')\n",
    "val_gen = data.flow_from_dataframe(dataframe = train,\n",
    "                                   directory = srcdir,\n",
    "                                   x_col = xcol,\n",
    "                                   y_col = ycol,\n",
    "                                   class_mode = 'categorical',\n",
    "                                   target_size = (64,64),\n",
    "                                   batch_size = 32,\n",
    "                                   subset = 'validation'\n",
    "                                  )"
   ]
  },
  {
   "cell_type": "code",
   "execution_count": 33,
   "metadata": {},
   "outputs": [
    {
     "name": "stdout",
     "output_type": "stream",
     "text": [
      "_________________________________________________________________\n",
      "Layer (type)                 Output Shape              Param #   \n",
      "=================================================================\n",
      "conv2d_5 (Conv2D)            (None, 62, 62, 24)        672       \n",
      "_________________________________________________________________\n",
      "activation_6 (Activation)    (None, 62, 62, 24)        0         \n",
      "_________________________________________________________________\n",
      "max_pooling2d_3 (MaxPooling2 (None, 31, 31, 24)        0         \n",
      "_________________________________________________________________\n",
      "conv2d_6 (Conv2D)            (None, 29, 29, 24)        5208      \n",
      "_________________________________________________________________\n",
      "activation_7 (Activation)    (None, 29, 29, 24)        0         \n",
      "_________________________________________________________________\n",
      "conv2d_7 (Conv2D)            (None, 27, 27, 48)        10416     \n",
      "_________________________________________________________________\n",
      "activation_8 (Activation)    (None, 27, 27, 48)        0         \n",
      "_________________________________________________________________\n",
      "conv2d_8 (Conv2D)            (None, 25, 25, 96)        41568     \n",
      "_________________________________________________________________\n",
      "activation_9 (Activation)    (None, 25, 25, 96)        0         \n",
      "_________________________________________________________________\n",
      "max_pooling2d_4 (MaxPooling2 (None, 12, 12, 96)        0         \n",
      "_________________________________________________________________\n",
      "flatten_2 (Flatten)          (None, 13824)             0         \n",
      "_________________________________________________________________\n",
      "dense_2 (Dense)              (None, 5)                 69125     \n",
      "_________________________________________________________________\n",
      "activation_10 (Activation)   (None, 5)                 0         \n",
      "=================================================================\n",
      "Total params: 126,989\n",
      "Trainable params: 126,989\n",
      "Non-trainable params: 0\n",
      "_________________________________________________________________\n",
      "None\n"
     ]
    }
   ],
   "source": [
    "from keras import optimizers\n",
    "from keras.models import Sequential\n",
    "from keras.layers import Conv2D, MaxPooling2D, BatchNormalization\n",
    "from keras.layers import Activation, Dropout, Flatten, Dense\n",
    "from keras.preprocessing import image\n",
    "from keras.preprocessing.image import ImageDataGenerator\n",
    "\n",
    "model = Sequential()\n",
    "\n",
    "model.add(Conv2D(24, (3,3), input_shape=train_gen.image_shape))\n",
    "model.add(Activation(\"relu\"))\n",
    "\n",
    "model.add(MaxPooling2D(pool_size=(2,2)))\n",
    "\n",
    "model.add(Conv2D(24, (3,3)))\n",
    "model.add(Activation(\"relu\"))\n",
    "\n",
    "model.add(Conv2D(48, (3,3)))\n",
    "model.add(Activation(\"relu\"))\n",
    "\n",
    "model.add(Conv2D(96, (3,3)))\n",
    "model.add(Activation(\"relu\"))\n",
    "model.add(MaxPooling2D(pool_size=(2,2)))\n",
    "\n",
    "model.add(Flatten())\n",
    "model.add(Dense(5))\n",
    "model.add(Activation(\"softmax\"))\n",
    "\n",
    "opt = optimizers.Adam(lr=0.001)\n",
    "model.compile(loss='categorical_crossentropy', optimizer=opt, metrics=['accuracy'])\n",
    "\n",
    "print(model.summary())"
   ]
  },
  {
   "cell_type": "code",
   "execution_count": 34,
   "metadata": {},
   "outputs": [
    {
     "name": "stdout",
     "output_type": "stream",
     "text": [
      "WARNING:tensorflow:From /Users/shyhhao/anaconda3/lib/python3.7/site-packages/tensorflow/python/ops/math_grad.py:1250: add_dispatch_support.<locals>.wrapper (from tensorflow.python.ops.array_ops) is deprecated and will be removed in a future version.\n",
      "Instructions for updating:\n",
      "Use tf.where in 2.0, which has the same broadcast rule as np.where\n",
      "WARNING:tensorflow:From /Users/shyhhao/anaconda3/lib/python3.7/site-packages/keras/backend/tensorflow_backend.py:986: The name tf.assign_add is deprecated. Please use tf.compat.v1.assign_add instead.\n",
      "\n",
      "Epoch 1/25\n",
      "187/187 [==============================] - 53s 282ms/step - loss: 1.5249 - acc: 0.2854 - val_loss: 1.0105 - val_acc: 0.5605\n",
      "Epoch 2/25\n",
      "187/187 [==============================] - 51s 274ms/step - loss: 0.4462 - acc: 0.8326 - val_loss: 0.2243 - val_acc: 0.9177\n",
      "Epoch 3/25\n",
      "187/187 [==============================] - 47s 251ms/step - loss: 0.1562 - acc: 0.9455 - val_loss: 0.1380 - val_acc: 0.9502\n",
      "Epoch 4/25\n",
      "187/187 [==============================] - 38s 202ms/step - loss: 0.0949 - acc: 0.9664 - val_loss: 0.0781 - val_acc: 0.9715\n",
      "Epoch 5/25\n",
      "187/187 [==============================] - 36s 194ms/step - loss: 0.0737 - acc: 0.9741 - val_loss: 0.0762 - val_acc: 0.9756\n",
      "Epoch 6/25\n",
      "187/187 [==============================] - 39s 211ms/step - loss: 0.0488 - acc: 0.9840 - val_loss: 0.0714 - val_acc: 0.9751\n",
      "Epoch 7/25\n",
      "187/187 [==============================] - 48s 255ms/step - loss: 0.0392 - acc: 0.9883 - val_loss: 0.0485 - val_acc: 0.9827\n",
      "Epoch 8/25\n",
      "187/187 [==============================] - 49s 260ms/step - loss: 0.0328 - acc: 0.9880 - val_loss: 0.0539 - val_acc: 0.9807\n",
      "Epoch 9/25\n",
      "187/187 [==============================] - 49s 261ms/step - loss: 0.0298 - acc: 0.9915 - val_loss: 0.0346 - val_acc: 0.9858\n",
      "Epoch 10/25\n",
      "187/187 [==============================] - 48s 258ms/step - loss: 0.0256 - acc: 0.9916 - val_loss: 0.0404 - val_acc: 0.9858\n",
      "Epoch 11/25\n",
      "187/187 [==============================] - 47s 253ms/step - loss: 0.0200 - acc: 0.9948 - val_loss: 0.0395 - val_acc: 0.9842\n",
      "Epoch 12/25\n",
      "187/187 [==============================] - 47s 252ms/step - loss: 0.0123 - acc: 0.9967 - val_loss: 0.0460 - val_acc: 0.9868\n",
      "Epoch 13/25\n",
      "187/187 [==============================] - 47s 249ms/step - loss: 0.0172 - acc: 0.9931 - val_loss: 0.0221 - val_acc: 0.9903\n",
      "Epoch 14/25\n",
      "187/187 [==============================] - 46s 248ms/step - loss: 0.0124 - acc: 0.9958 - val_loss: 0.0127 - val_acc: 0.9939\n",
      "Epoch 15/25\n",
      "187/187 [==============================] - 48s 255ms/step - loss: 0.0185 - acc: 0.9926 - val_loss: 0.0328 - val_acc: 0.9883\n",
      "Epoch 16/25\n",
      "187/187 [==============================] - 46s 249ms/step - loss: 0.0135 - acc: 0.9952 - val_loss: 0.0187 - val_acc: 0.9939\n",
      "Epoch 17/25\n",
      "187/187 [==============================] - 47s 252ms/step - loss: 0.0102 - acc: 0.9968 - val_loss: 0.0198 - val_acc: 0.9934\n",
      "Epoch 18/25\n",
      "187/187 [==============================] - 47s 254ms/step - loss: 0.0109 - acc: 0.9965 - val_loss: 0.0185 - val_acc: 0.9954\n",
      "Epoch 19/25\n",
      "187/187 [==============================] - 47s 251ms/step - loss: 0.0075 - acc: 0.9975 - val_loss: 0.0177 - val_acc: 0.9929\n",
      "Epoch 20/25\n",
      "187/187 [==============================] - 50s 265ms/step - loss: 0.0155 - acc: 0.9945 - val_loss: 0.0363 - val_acc: 0.9909\n",
      "Epoch 21/25\n",
      "187/187 [==============================] - 48s 255ms/step - loss: 0.0149 - acc: 0.9960 - val_loss: 0.0254 - val_acc: 0.9914\n",
      "Epoch 22/25\n",
      "187/187 [==============================] - 47s 252ms/step - loss: 0.0093 - acc: 0.9968 - val_loss: 0.0337 - val_acc: 0.9898\n",
      "Epoch 23/25\n",
      "187/187 [==============================] - 48s 254ms/step - loss: 0.0185 - acc: 0.9942 - val_loss: 0.0317 - val_acc: 0.9898\n",
      "Epoch 24/25\n",
      "187/187 [==============================] - 48s 256ms/step - loss: 0.0123 - acc: 0.9965 - val_loss: 0.0277 - val_acc: 0.9924\n",
      "Epoch 25/25\n",
      "187/187 [==============================] - 47s 251ms/step - loss: 0.0088 - acc: 0.9973 - val_loss: 0.0123 - val_acc: 0.9975\n",
      "0:19:27.707175\n"
     ]
    }
   ],
   "source": [
    "from datetime import datetime\n",
    "start = datetime.now()\n",
    "cnn_training = model.fit_generator(train_gen, \n",
    "                                   steps_per_epoch = train_gen.samples // 32,\n",
    "                                   validation_data = val_gen, \n",
    "                                   validation_steps = val_gen.samples // 32,\n",
    "                                   epochs = 25\n",
    "                                  )\n",
    "print(datetime.now() - start)"
   ]
  },
  {
   "cell_type": "code",
   "execution_count": 46,
   "metadata": {},
   "outputs": [
    {
     "data": {
      "image/png": "[encoded data removed]",
      "text/plain": [
       "<Figure size 720x576 with 1 Axes>"
      ]
     },
     "metadata": {
      "needs_background": "light"
     },
     "output_type": "display_data"
    }
   ],
   "source": [
    "num_epochs = 25\n",
    "epoch_nums = range(1,num_epochs+1)\n",
    "training_acc = cnn_training.history['acc']\n",
    "validation_acc = cnn_training.history['val_acc']\n",
    "plt.figure(figsize=(10,8))\n",
    "plt.plot(epoch_nums, training_acc)\n",
    "plt.plot(epoch_nums, validation_acc)\n",
    "plt.xlabel('epoch')\n",
    "plt.ylabel('accuracy')\n",
    "plt.legend(['training', 'validation'], loc='lower right')\n",
    "plt.show()"
   ]
  },
  {
   "cell_type": "code",
   "execution_count": 45,
   "metadata": {},
   "outputs": [
    {
     "name": "stdout",
     "output_type": "stream",
     "text": [
      "Generating predictions from validation data..\n"
     ]
    },
    {
     "data": {
      "image/png": "[encoded data removed]",
      "text/plain": [
       "<Figure size 576x720 with 2 Axes>"
      ]
     },
     "metadata": {
      "needs_background": "light"
     },
     "output_type": "display_data"
    }
   ],
   "source": [
    "print(\"Generating predictions from validation data..\")\n",
    "\n",
    "x_test = val_gen[0][0]\n",
    "y_test = val_gen[0][1]\n",
    "\n",
    "class_probabilities = model.predict(x_test)\n",
    "\n",
    "predictions = np.argmax(class_probabilities, axis=1)\n",
    "\n",
    "true_labels = np.argmax(y_test, axis=1)\n",
    "\n",
    "classes = [\"0\", \"1\", \"2\", \"3\" , \"4\"]\n",
    "\n",
    "cm = confusion_matrix(true_labels, predictions)\n",
    "plt.figure(figsize=(8,10))\n",
    "plt.imshow(cm, interpolation=\"nearest\", cmap=plt.cm.Reds)\n",
    "plt.colorbar()\n",
    "tick_marks = np.arange(len(classes))\n",
    "plt.xticks(tick_marks, classes , rotation=85)\n",
    "plt.yticks(tick_marks, classes)\n",
    "plt.xlabel(\"Predicted Class\")\n",
    "plt.ylabel(\"True Class\")\n",
    "plt.show()"
   ]
  },
  {
   "cell_type": "code",
   "execution_count": null,
   "metadata": {},
   "outputs": [],
   "source": []
  }
 ],
 "metadata": {
  "kernelspec": {
   "display_name": "Python 3",
   "language": "python",
   "name": "python3"
  },
  "language_info": {
   "codemirror_mode": {
    "name": "ipython",
    "version": 3
   },
   "file_extension": ".py",
   "mimetype": "text/x-python",
   "name": "python",
   "nbconvert_exporter": "python",
   "pygments_lexer": "ipython3",
   "version": "3.7.3"
  }
 },
 "nbformat": 4,
 "nbformat_minor": 4
}
