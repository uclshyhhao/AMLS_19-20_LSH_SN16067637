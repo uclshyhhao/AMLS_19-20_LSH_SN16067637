{
 "cells": [
  {
   "cell_type": "code",
   "execution_count": 10,
   "metadata": {},
   "outputs": [],
   "source": [
    "import os\n",
    "import sys\n",
    "sys.path.append(os.path.abspath(r\"//Users/shyhhao/Documents/AML_Assignment/AMLSassignment19_-20_SN16067637/B2\"))\n",
    "\n",
    "import B2_landmarks as b2\n",
    "import numpy as np\n",
    "import matplotlib.pyplot as plt\n",
    "from sklearn.metrics import classification_report,accuracy_score\n",
    "from sklearn import svm\n",
    "from sklearn.model_selection import train_test_split\n",
    "from sklearn.model_selection import GridSearchCV\n",
    "from sklearn.preprocessing import StandardScaler\n",
    "from sklearn.model_selection import learning_curve\n",
    "from sklearn.model_selection import ShuffleSplit\n",
    "from sklearn.metrics import confusion_matrix\n",
    "from matplotlib.colors import ListedColormap\n"
   ]
  },
  {
   "cell_type": "code",
   "execution_count": 11,
   "metadata": {},
   "outputs": [],
   "source": [
    "def get_data_B2():\n",
    "\n",
    "    X_B2, y_B2 = b2.extract_features_labels()\n",
    "    Y_B2 = np.array([y_B2, -(y_B2 - 1)]).T\n",
    "\n",
    "    # Rescaling Data\n",
    "    scaler = StandardScaler()\n",
    "    temp_X_reshape = X_B2.reshape(len(X_B2), len(X_B2[0]) * len(X_B2[0][0]))\n",
    "    temp_X_B2 = scaler.fit_transform(temp_X_reshape)\n",
    "\n",
    "    tr_X_B2, te_X_B2, tr_Y_B2, te_Y_B2 = train_test_split(temp_X_B2, Y_B2, test_size=0.1, random_state=0)\n",
    "\n",
    "#     print(tr_X_B2.shape)\n",
    "#     print(te_X_B2.shape)\n",
    "#     print(tr_Y_B2.shape)\n",
    "#     print(te_Y_B2.shape)\n",
    "    \n",
    "    return tr_X_B2, tr_Y_B2, te_X_B2, te_Y_B2\n"
   ]
  },
  {
   "cell_type": "code",
   "execution_count": 12,
   "metadata": {},
   "outputs": [],
   "source": [
    "def B2_SVM(training_images, training_labels, test_images, test_labels):\n",
    "#     classifier = svm.SVC(kernel='linear', C = 0.05)\n",
    "    tuned_parameters = [{'kernel': ['linear'], 'C': [1, 10, 100]},\n",
    "                        {'kernel': ['rbf'], 'gamma': [1e-3, 1e-4], 'C':[1, 10, 100]},\n",
    "                        {'kernel': ['poly'], 'degree': [2, 3], 'C': [1, 10, 100]}\n",
    "                       ]\n",
    "    classifier = GridSearchCV(svm.SVC(), tuned_parameters, n_jobs = -1)\n",
    "#     lab_enc = preprocessing.LabelEncoder()\n",
    "    classifier.fit(training_images, training_labels)\n",
    "                                \n",
    "#  SVM Accuracy\n",
    "    acc_B2_train = classifier.best_score_\n",
    "\n",
    "#  Choosing the best accuracy using GridSearchCV\n",
    "    pred_B2 = classifier.best_estimator_.predict(test_images)\n",
    "    acc_B2_test = accuracy_score(test_labels, pred_B2)\n",
    "    \n",
    "    print(classifier.best_estimator_)\n",
    "    print()\n",
    "    print(classifier.best_params_)\n",
    "    \n",
    "    return acc_B2_train, acc_B2_test, pred_B2\n",
    "    "
   ]
  },
  {
   "cell_type": "code",
   "execution_count": 13,
   "metadata": {},
   "outputs": [
    {
     "name": "stderr",
     "output_type": "stream",
     "text": [
      "/Users/shyhhao/anaconda3/lib/python3.7/site-packages/sklearn/model_selection/_split.py:1978: FutureWarning: The default value of cv will change from 3 to 5 in version 0.22. Specify it explicitly to silence this warning.\n",
      "  warnings.warn(CV_WARNING, FutureWarning)\n",
      "/Users/shyhhao/anaconda3/lib/python3.7/site-packages/sklearn/svm/base.py:193: FutureWarning: The default value of gamma will change from 'auto' to 'scale' in version 0.22 to account better for unscaled features. Set gamma explicitly to 'auto' or 'scale' to avoid this warning.\n",
      "  \"avoid this warning.\", FutureWarning)\n"
     ]
    },
    {
     "name": "stdout",
     "output_type": "stream",
     "text": [
      "SVC(C=100, cache_size=200, class_weight=None, coef0=0.0,\n",
      "    decision_function_shape='ovr', degree=3, gamma='auto_deprecated',\n",
      "    kernel='poly', max_iter=-1, probability=False, random_state=None,\n",
      "    shrinking=True, tol=0.001, verbose=False)\n",
      "\n",
      "{'C': 100, 'degree': 3, 'kernel': 'poly'}\n",
      "TB2:0.48494711147274205,0.49878048780487805\n",
      "0:17:15.595791\n"
     ]
    }
   ],
   "source": [
    "# Run B2 accuracy test(MAIN.py)\n",
    "from datetime import datetime\n",
    "start = datetime.now()\n",
    "    \n",
    "tr_X_B2, tr_Y_B2, te_X_B2, te_Y_B2= get_data_B2()\n",
    "model_B2 = B2_SVM(tr_X_B2, list(zip(*tr_Y_B2))[0], te_X_B2, list(zip(*te_Y_B2))[0])\n",
    "acc_B2_train, acc_B2_test, pred_B2 = model_B2\n",
    "print('TB2:{},{}'.format(acc_B2_train, acc_B2_test))\n",
    "\n",
    "print(datetime.now() - start)\n"
   ]
  },
  {
   "cell_type": "code",
   "execution_count": null,
   "metadata": {},
   "outputs": [],
   "source": []
  },
  {
   "cell_type": "code",
   "execution_count": null,
   "metadata": {},
   "outputs": [],
   "source": []
  },
  {
   "cell_type": "code",
   "execution_count": 5,
   "metadata": {},
   "outputs": [],
   "source": [
    "# def plot_learning_curve(estimator, title, X, y, ylim=None, cv=None,\n",
    "#                         train_sizes=np.linspace(.1, 1.0, 5)):\n",
    "#     \"\"\"\n",
    "#     Generate a simple plot of the test and training learning curve.\n",
    "\n",
    "#     Parameters\n",
    "#     ----------\n",
    "#     estimator : object type that implements the \"fit\" and \"predict\" methods\n",
    "#         An object of that type which is cloned for each validation.\n",
    "\n",
    "#     title : string\n",
    "#         Title for the chart.\n",
    "\n",
    "#     X : array-like, shape (n_samples, n_features)\n",
    "#         Training vector, where n_samples is the number of samples and\n",
    "#         n_features is the number of features.\n",
    "\n",
    "#     y : array-like, shape (n_samples) or (n_samples, n_features), optional\n",
    "#         Target relative to X for classification or regression;\n",
    "#         None for unsupervised learning.\n",
    "\n",
    "#     ylim : tuple, shape (ymin, ymax), optional\n",
    "#         Defines minimum and maximum yvalues plotted.\n",
    "\n",
    "#     cv : integer, cross-validation generator, optional\n",
    "#         If an integer is passed, it is the number of folds (defaults to 3).\n",
    "#         Specific cross-validation objects can be passed, see\n",
    "#         sklearn.cross_validation module for the list of possible objects\n",
    "#     \"\"\"\n",
    "    \n",
    "#     if axes is None:\n",
    "#         _, axes = plt.subplots(1, 3, figsize=(20, 5))\n",
    "\n",
    "#     axes[0].set_title(title)\n",
    "#     if ylim is not None:\n",
    "#         axes[0].set_ylim(*ylim)\n",
    "#     axes[0].set_xlabel(\"Training examples\")\n",
    "#     axes[0].set_ylabel(\"Score\")\n",
    "\n",
    "#     train_sizes, train_scores, test_scores, fit_times, _ = \\\n",
    "#         learning_curve(estimator, X, y, cv=cv, n_jobs=n_jobs,\n",
    "#                        train_sizes=train_sizes,\n",
    "#                        return_times=True)\n",
    "#     train_scores_mean = np.mean(train_scores, axis=1)\n",
    "#     train_scores_std = np.std(train_scores, axis=1)\n",
    "#     test_scores_mean = np.mean(test_scores, axis=1)\n",
    "#     test_scores_std = np.std(test_scores, axis=1)\n",
    "#     fit_times_mean = np.mean(fit_times, axis=1)\n",
    "#     fit_times_std = np.std(fit_times, axis=1)\n",
    "    \n",
    "#     # Plot learning curve\n",
    "#     axes[0].grid()\n",
    "#     axes[0].fill_between(train_sizes, train_scores_mean - train_scores_std,\n",
    "#                          train_scores_mean + train_scores_std, alpha=0.1,\n",
    "#                          color=\"r\")\n",
    "#     axes[0].fill_between(train_sizes, test_scores_mean - test_scores_std,\n",
    "#                          test_scores_mean + test_scores_std, alpha=0.1,\n",
    "#                          color=\"g\")\n",
    "#     axes[0].plot(train_sizes, train_scores_mean, 'o-', color=\"r\",\n",
    "#                  label=\"Training score\")\n",
    "#     axes[0].plot(train_sizes, test_scores_mean, 'o-', color=\"g\",\n",
    "#                  label=\"Cross-validation score\")\n",
    "#     axes[0].legend(loc=\"best\")\n",
    "\n",
    "#     # Plot n_samples vs fit_times\n",
    "#     axes[1].grid()\n",
    "#     axes[1].plot(train_sizes, fit_times_mean, 'o-')\n",
    "#     axes[1].fill_between(train_sizes, fit_times_mean - fit_times_std,\n",
    "#                          fit_times_mean + fit_times_std, alpha=0.1)\n",
    "#     axes[1].set_xlabel(\"Training examples\")\n",
    "#     axes[1].set_ylabel(\"fit_times\")\n",
    "#     axes[1].set_title(\"Scalability of the model\")\n",
    "\n",
    "#     # Plot fit_time vs score\n",
    "#     axes[2].grid()\n",
    "#     axes[2].plot(fit_times_mean, test_scores_mean, 'o-')\n",
    "#     axes[2].fill_between(fit_times_mean, test_scores_mean - test_scores_std,\n",
    "#                          test_scores_mean + test_scores_std, alpha=0.1)\n",
    "#     axes[2].set_xlabel(\"fit_times\")\n",
    "#     axes[2].set_ylabel(\"Score\")\n",
    "#     axes[2].set_title(\"Performance of the model\")\n",
    "\n",
    "#     return plt"
   ]
  },
  {
   "cell_type": "code",
   "execution_count": 14,
   "metadata": {},
   "outputs": [],
   "source": [
    "def plot_learning_curve(estimator, title, X, y, ylim=None, cv=None,\n",
    "                        n_jobs=1, train_sizes=np.linspace(.1, 1.0, 5)):\n",
    "    \n",
    "    plt.figure()\n",
    "    plt.title(title)\n",
    "    if ylim is not None:\n",
    "        plt.ylim(*ylim)\n",
    "    plt.xlabel(\"Training examples\")\n",
    "    plt.ylabel(\"Score\")\n",
    "    train_sizes, train_scores, test_scores = learning_curve(\n",
    "        estimator, X, y, cv=cv, n_jobs=n_jobs, train_sizes=train_sizes)\n",
    "    train_scores_mean = np.mean(train_scores, axis=1)\n",
    "    train_scores_std = np.std(train_scores, axis=1)\n",
    "    test_scores_mean = np.mean(test_scores, axis=1)\n",
    "    test_scores_std = np.std(test_scores, axis=1)\n",
    "    plt.grid()\n",
    "\n",
    "    plt.fill_between(train_sizes, train_scores_mean - train_scores_std,\n",
    "                     train_scores_mean + train_scores_std, alpha=0.1,\n",
    "                     color=\"r\")\n",
    "    plt.fill_between(train_sizes, test_scores_mean - test_scores_std,\n",
    "                     test_scores_mean + test_scores_std, alpha=0.1, color=\"b\")\n",
    "    plt.plot(train_sizes, train_scores_mean, 'o-', color=\"r\",\n",
    "             label=\"Training score\")\n",
    "    plt.plot(train_sizes, test_scores_mean, 'o-', color=\"b\",\n",
    "             label=\"Cross-validation score\")\n",
    "\n",
    "    plt.legend(loc=\"best\")\n",
    "    return plt"
   ]
  },
  {
   "cell_type": "code",
   "execution_count": 15,
   "metadata": {},
   "outputs": [
    {
     "data": {
      "image/png": "[encoded data removed]",
      "text/plain": [
       "<Figure size 432x288 with 1 Axes>"
      ]
     },
     "metadata": {
      "needs_background": "light"
     },
     "output_type": "display_data"
    }
   ],
   "source": [
    "# Learning Curve\n",
    "title = \"Learning Curves SVM\"\n",
    "\n",
    "cv = ShuffleSplit(n_splits=100, test_size=0.1, random_state=0)\n",
    "# print(cv)\n",
    "estimator = svm.SVC(kernel = 'poly', degree = 3, C = 100)\n",
    "X, y = tr_X_B2, list(zip(*tr_Y_B2))[0]\n",
    "# print(X)\n",
    "plot_learning_curve(estimator, title, X, y, (0, 1.0), cv=cv, n_jobs=-1)\n",
    "\n",
    "plt.show()"
   ]
  },
  {
   "cell_type": "code",
   "execution_count": null,
   "metadata": {},
   "outputs": [],
   "source": [
    "plot_learning_curve(estimator, title, X, y, (0, 1.0), cv=cv, n_jobs=-1)\n",
    "\n",
    "plt.show()"
   ]
  },
  {
   "cell_type": "code",
   "execution_count": 25,
   "metadata": {},
   "outputs": [
    {
     "name": "stdout",
     "output_type": "stream",
     "text": [
      "[[ 94  30  23  13   8]\n",
      " [ 48  64  20  36   8]\n",
      " [ 44  43  37  29   5]\n",
      " [ 19  29  22  88   7]\n",
      " [ 13   5   4   5 126]]\n"
     ]
    },
    {
     "data": {
      "text/plain": [
       "<function matplotlib.pyplot.show(*args, **kw)>"
      ]
     },
     "execution_count": 25,
     "metadata": {},
     "output_type": "execute_result"
    },
    {
     "data": {
      "image/png": "[encoded data removed]",
      "text/plain": [
       "<Figure size 288x288 with 2 Axes>"
      ]
     },
     "metadata": {
      "needs_background": "light"
     },
     "output_type": "display_data"
    }
   ],
   "source": [
    "test_label = list(zip(*te_Y_B2))[0]\n",
    "cf = confusion_matrix(test_label, pred_B2)\n",
    "print(cf)\n",
    "\n",
    "cmap = plt.cm.Blues\n",
    "\n",
    "plt.matshow(cf, cmap = cmap)\n",
    "plt.title('Confusion matrix')\n",
    "plt.colorbar()\n",
    "plt.xlabel('predicted')\n",
    "plt.ylabel('actual')\n",
    "plt.show"
   ]
  },
  {
   "cell_type": "code",
   "execution_count": 14,
   "metadata": {},
   "outputs": [
    {
     "data": {
      "image/png": "[encoded data removed]",
      "text/plain": [
       "<Figure size 432x288 with 4 Axes>"
      ]
     },
     "metadata": {
      "needs_background": "light"
     },
     "output_type": "display_data"
    }
   ],
   "source": [
    "import dlib\n",
    "import cv2\n",
    "import numpy as np\n",
    "import matplotlib.pyplot as plt\n",
    "\n",
    "detector = dlib.get_frontal_face_detector()\n",
    "predictor = dlib.shape_predictor('/Users/shyhhao/Documents/AML_Assignment/AMLSassignment19_-20_SN16067637/B2/eye_color.dat')\n",
    "\n",
    "basedir = '/Users/shyhhao/Documents/AML_Assignment/AMLSassignment19_-20_SN16067637/dataset_AMLS_19-20/dataset_AMLS_19-20/cartoon_set'\n",
    "images_dir = os.path.join(basedir, 'img')\n",
    "ex_img_path = os.path.join(images_dir, '4.png')\n",
    "img = cv2.imread(ex_img_path)\n",
    "\n",
    "# create a mask\n",
    "mask = np.zeros(img.shape[:2], np.uint8)\n",
    "mask[100:300, 100:400] = 255\n",
    "masked_img = cv2.bitwise_and(img,img,mask = mask)\n",
    "\n",
    "# Calculate histogram with mask and without mask\n",
    "# Check third argument for mask\n",
    "hist_full = cv2.calcHist([img],[0],None,[256],[0,256])\n",
    "hist_mask = cv2.calcHist([img],[0],mask,[256],[0,256])\n",
    "\n",
    "plt.subplot(221), plt.imshow(img, 'gray')\n",
    "plt.subplot(222), plt.imshow(mask,'gray')\n",
    "plt.subplot(223), plt.imshow(masked_img, 'gray')\n",
    "plt.subplot(224), plt.plot(hist_full), plt.plot(hist_mask)\n",
    "plt.xlim([0,256])\n",
    "\n",
    "plt.show()"
   ]
  },
  {
   "cell_type": "markdown",
   "metadata": {},
   "source": [
    "## Testing certain parts of the code"
   ]
  },
  {
   "cell_type": "code",
   "execution_count": null,
   "metadata": {},
   "outputs": [],
   "source": [
    "def gdb1(): \n",
    "    X_B1, y_B1 = b1.extract_features_labels()\n",
    "\n",
    "    return X_B1, y_B1\n",
    "\n",
    "x, y = gdb1()"
   ]
  },
  {
   "cell_type": "code",
   "execution_count": null,
   "metadata": {},
   "outputs": [],
   "source": [
    "def gdb2(x, y):\n",
    "    X_B1 = x\n",
    "    Y_B1 = y\n",
    "    print(len(X_B1))\n",
    "    print(len(Y_B1))\n",
    "#     Y_B1 = np.array([y_B1, -(y_B1 - 1)]).T\n",
    "    \n",
    "#     # Rescaling Data\n",
    "#     scaler = StandardScaler()\n",
    "#     temp_X_reshape = X_B1.reshape(len(X_B1), len(X_B1[0]) * len(X_B1[0][0]))\n",
    "#     temp_X_B1 = scaler.fit_transform(temp_X_reshape)\n",
    "    \n",
    "#     tr_X_B1, te_X_B1, tr_Y_B1, te_Y_B1 = train_test_split(temp_X_B1, Y_B1, test_size=0.3, random_state=0)\n",
    "\n",
    "#     print(tr_X_B1.shape)\n",
    "#     print(te_X_B1.shape)\n",
    "#     print(tr_Y_B1.shape)\n",
    "#     print(te_Y_B1.shape)\n",
    "    \n",
    "#     return tr_X_B1, tr_Y_B1, te_X_B1, te_Y_B1"
   ]
  },
  {
   "cell_type": "code",
   "execution_count": null,
   "metadata": {},
   "outputs": [],
   "source": [
    "gdb2(x, y)"
   ]
  },
  {
   "cell_type": "markdown",
   "metadata": {},
   "source": [
    "### Moving on to CNN as SVM produces very low accuracy and lots of image pre-processing functions to do before running through SVM"
   ]
  },
  {
   "cell_type": "markdown",
   "metadata": {},
   "source": [
    "#### Importing the relevant libraries for CNN"
   ]
  },
  {
   "cell_type": "code",
   "execution_count": 101,
   "metadata": {},
   "outputs": [],
   "source": [
    "import os\n",
    "import numpy as np\n",
    "import matplotlib.pyplot as plt\n",
    "from sklearn import svm, datasets\n",
    "from sklearn.svm import SVC\n",
    "from sklearn.model_selection import train_test_split\n",
    "from sklearn.utils import shuffle\n",
    "from sklearn.metrics import classification_report, accuracy_score, confusion_matrix, recall_score, precision_score, f1_score\n",
    "import pandas as pd\n",
    "from sklearn import svm\n",
    "from keras.preprocessing.image import ImageDataGenerator\n",
    "\n",
    "srcdir = '/Users/shyhhao/Documents/AMLSassignment19_-20_LSH_SN16067637/AMLS_19-20_LSH_SN16067637/dataset_AMLS_19-20/dataset_AMLS_19-20/cartoon_set/img'"
   ]
  },
  {
   "cell_type": "markdown",
   "metadata": {},
   "source": [
    "### Importing data, setting dataframe and append color to relative numbers"
   ]
  },
  {
   "cell_type": "code",
   "execution_count": 103,
   "metadata": {},
   "outputs": [
    {
     "data": {
      "text/html": [
       "<div>\n",
       "<style scoped>\n",
       "    .dataframe tbody tr th:only-of-type {\n",
       "        vertical-align: middle;\n",
       "    }\n",
       "\n",
       "    .dataframe tbody tr th {\n",
       "        vertical-align: top;\n",
       "    }\n",
       "\n",
       "    .dataframe thead th {\n",
       "        text-align: right;\n",
       "    }\n",
       "</style>\n",
       "<table border=\"1\" class=\"dataframe\">\n",
       "  <thead>\n",
       "    <tr style=\"text-align: right;\">\n",
       "      <th></th>\n",
       "      <th>eye_color</th>\n",
       "      <th>img_name</th>\n",
       "      <th>colors</th>\n",
       "    </tr>\n",
       "  </thead>\n",
       "  <tbody>\n",
       "    <tr>\n",
       "      <th>0</th>\n",
       "      <td>1</td>\n",
       "      <td>0.png</td>\n",
       "      <td>blue</td>\n",
       "    </tr>\n",
       "    <tr>\n",
       "      <th>1</th>\n",
       "      <td>2</td>\n",
       "      <td>1.png</td>\n",
       "      <td>green</td>\n",
       "    </tr>\n",
       "    <tr>\n",
       "      <th>2</th>\n",
       "      <td>2</td>\n",
       "      <td>2.png</td>\n",
       "      <td>green</td>\n",
       "    </tr>\n",
       "    <tr>\n",
       "      <th>3</th>\n",
       "      <td>2</td>\n",
       "      <td>3.png</td>\n",
       "      <td>green</td>\n",
       "    </tr>\n",
       "    <tr>\n",
       "      <th>4</th>\n",
       "      <td>0</td>\n",
       "      <td>4.png</td>\n",
       "      <td>brown</td>\n",
       "    </tr>\n",
       "    <tr>\n",
       "      <th>...</th>\n",
       "      <td>...</td>\n",
       "      <td>...</td>\n",
       "      <td>...</td>\n",
       "    </tr>\n",
       "    <tr>\n",
       "      <th>9995</th>\n",
       "      <td>3</td>\n",
       "      <td>9995.png</td>\n",
       "      <td>gray</td>\n",
       "    </tr>\n",
       "    <tr>\n",
       "      <th>9996</th>\n",
       "      <td>0</td>\n",
       "      <td>9996.png</td>\n",
       "      <td>brown</td>\n",
       "    </tr>\n",
       "    <tr>\n",
       "      <th>9997</th>\n",
       "      <td>1</td>\n",
       "      <td>9997.png</td>\n",
       "      <td>blue</td>\n",
       "    </tr>\n",
       "    <tr>\n",
       "      <th>9998</th>\n",
       "      <td>0</td>\n",
       "      <td>9998.png</td>\n",
       "      <td>brown</td>\n",
       "    </tr>\n",
       "    <tr>\n",
       "      <th>9999</th>\n",
       "      <td>2</td>\n",
       "      <td>9999.png</td>\n",
       "      <td>green</td>\n",
       "    </tr>\n",
       "  </tbody>\n",
       "</table>\n",
       "<p>10000 rows × 3 columns</p>\n",
       "</div>"
      ],
      "text/plain": [
       "     eye_color  img_name colors\n",
       "0            1     0.png   blue\n",
       "1            2     1.png  green\n",
       "2            2     2.png  green\n",
       "3            2     3.png  green\n",
       "4            0     4.png  brown\n",
       "...        ...       ...    ...\n",
       "9995         3  9995.png   gray\n",
       "9996         0  9996.png  brown\n",
       "9997         1  9997.png   blue\n",
       "9998         0  9998.png  brown\n",
       "9999         2  9999.png  green\n",
       "\n",
       "[10000 rows x 3 columns]"
      ]
     },
     "execution_count": 103,
     "metadata": {},
     "output_type": "execute_result"
    }
   ],
   "source": [
    "df = pd.read_csv(\"/Users/shyhhao/Documents/AMLSassignment19_-20_LSH_SN16067637/AMLS_19-20_LSH_SN16067637/dataset_AMLS_19-20/dataset_AMLS_19-20/cartoon_set/labels.csv\")\n",
    "df = pd.DataFrame(df).reset_index()\n",
    "df.columns = ['Index', 'Total']\n",
    "del df['Index']\n",
    "df['eye_color'] = df['Total'].str.split('\\t').str[1]\n",
    "df['face_shape'] = df['Total'].str.split('\\t').str[2]\n",
    "df['img_name'] = df['Total'].str.split('\\t').str[3]\n",
    "del df['Total']\n",
    "del df['face_shape']\n",
    "df\n",
    "\n",
    "eyescolor = []\n",
    "for i in range(len(df.eye_color)):\n",
    "    if df.eye_color.loc[i] == '0':\n",
    "        eyescolor.append('brown')\n",
    "    elif df.eye_color.loc[i] == '1':\n",
    "        eyescolor.append('blue')\n",
    "    elif df.eye_color.loc[i] == '2':\n",
    "        eyescolor.append('green')\n",
    "    elif df.eye_color.loc[i] == '3':\n",
    "        eyescolor.append('gray')\n",
    "    elif df.eye_color.loc[i] == '4':\n",
    "        eyescolor.append('black')\n",
    "df['colors'] = eyescolor\n",
    "df"
   ]
  },
  {
   "cell_type": "markdown",
   "metadata": {},
   "source": [
    "### Splitting data"
   ]
  },
  {
   "cell_type": "code",
   "execution_count": 104,
   "metadata": {},
   "outputs": [
    {
     "name": "stdout",
     "output_type": "stream",
     "text": [
      "8000\n",
      "2000\n"
     ]
    }
   ],
   "source": [
    "train, test = train_test_split(df, test_size = 0.2, random_state = 0)\n",
    "print(len(train))\n",
    "print(len(test))"
   ]
  },
  {
   "cell_type": "markdown",
   "metadata": {},
   "source": [
    "### Generating training and validation data"
   ]
  },
  {
   "cell_type": "code",
   "execution_count": 105,
   "metadata": {},
   "outputs": [
    {
     "name": "stdout",
     "output_type": "stream",
     "text": [
      "Receiving data..\n",
      "Arranging training dataset..\n",
      "Found 6000 validated image filenames belonging to 5 classes.\n",
      "Arranging validation dataset..\n",
      "Found 2000 validated image filenames belonging to 5 classes.\n"
     ]
    }
   ],
   "source": [
    "xcol = 'img_name'\n",
    "ycol = 'colors'\n",
    "\n",
    "print('Receiving data..')\n",
    "data = ImageDataGenerator(rescale = 1./255.,\n",
    "                          validation_split = 0.25,\n",
    "                          horizontal_flip = True,\n",
    "                          vertical_flip = True\n",
    "                         )\n",
    "\n",
    "print('Arranging training dataset..')\n",
    "train_gen = data.flow_from_dataframe(dataframe = train,\n",
    "                                     directory = srcdir,\n",
    "                                     x_col = xcol,\n",
    "                                     y_col = ycol,\n",
    "                                     class_mode = 'categorical',\n",
    "                                     target_size = (64,64),\n",
    "                                     batch_size = 32,\n",
    "                                     subset = 'training'\n",
    "                                    )\n",
    "\n",
    "print('Arranging validation dataset..')\n",
    "val_gen = data.flow_from_dataframe(dataframe = train,\n",
    "                                   directory = srcdir,\n",
    "                                   x_col = xcol,\n",
    "                                   y_col = ycol,\n",
    "                                   class_mode = 'categorical',\n",
    "                                   target_size = (64,64),\n",
    "                                   batch_size = 32,\n",
    "                                   subset = 'validation'\n",
    "                                  )"
   ]
  },
  {
   "cell_type": "markdown",
   "metadata": {},
   "source": [
    "### Convolutional Neural Network - Setting layers of matrix"
   ]
  },
  {
   "cell_type": "code",
   "execution_count": 111,
   "metadata": {},
   "outputs": [
    {
     "name": "stdout",
     "output_type": "stream",
     "text": [
      "_________________________________________________________________\n",
      "Layer (type)                 Output Shape              Param #   \n",
      "=================================================================\n",
      "conv2d_16 (Conv2D)           (None, 62, 62, 24)        672       \n",
      "_________________________________________________________________\n",
      "activation_19 (Activation)   (None, 62, 62, 24)        0         \n",
      "_________________________________________________________________\n",
      "max_pooling2d_7 (MaxPooling2 (None, 31, 31, 24)        0         \n",
      "_________________________________________________________________\n",
      "conv2d_17 (Conv2D)           (None, 29, 29, 24)        5208      \n",
      "_________________________________________________________________\n",
      "activation_20 (Activation)   (None, 29, 29, 24)        0         \n",
      "_________________________________________________________________\n",
      "conv2d_18 (Conv2D)           (None, 27, 27, 48)        10416     \n",
      "_________________________________________________________________\n",
      "activation_21 (Activation)   (None, 27, 27, 48)        0         \n",
      "_________________________________________________________________\n",
      "conv2d_19 (Conv2D)           (None, 25, 25, 96)        41568     \n",
      "_________________________________________________________________\n",
      "activation_22 (Activation)   (None, 25, 25, 96)        0         \n",
      "_________________________________________________________________\n",
      "max_pooling2d_8 (MaxPooling2 (None, 12, 12, 96)        0         \n",
      "_________________________________________________________________\n",
      "flatten_4 (Flatten)          (None, 13824)             0         \n",
      "_________________________________________________________________\n",
      "dense_4 (Dense)              (None, 5)                 69125     \n",
      "_________________________________________________________________\n",
      "activation_23 (Activation)   (None, 5)                 0         \n",
      "=================================================================\n",
      "Total params: 126,989\n",
      "Trainable params: 126,989\n",
      "Non-trainable params: 0\n",
      "_________________________________________________________________\n",
      "None\n"
     ]
    }
   ],
   "source": [
    "from keras import optimizers\n",
    "from keras.models import Sequential\n",
    "from keras.layers import Conv2D, MaxPooling2D, BatchNormalization\n",
    "from keras.layers import Activation, Dropout, Flatten, Dense\n",
    "from keras.preprocessing import image\n",
    "from keras.preprocessing.image import ImageDataGenerator\n",
    "\n",
    "model = Sequential()\n",
    "\n",
    "model.add(Conv2D(24, (3,3), input_shape=train_gen.image_shape))\n",
    "model.add(Activation(\"relu\"))\n",
    "\n",
    "model.add(MaxPooling2D(pool_size=(2,2)))\n",
    "\n",
    "model.add(Conv2D(24, (3,3)))\n",
    "model.add(Activation(\"relu\"))\n",
    "\n",
    "model.add(Conv2D(48, (3,3)))\n",
    "model.add(Activation(\"relu\"))\n",
    "\n",
    "model.add(Conv2D(96, (3,3)))\n",
    "model.add(Activation(\"relu\"))\n",
    "model.add(MaxPooling2D(pool_size=(2,2)))\n",
    "\n",
    "model.add(Flatten())\n",
    "model.add(Dense(5))\n",
    "model.add(Activation(\"softmax\"))\n",
    "\n",
    "opt = optimizers.Adam(lr=0.001)\n",
    "model.compile(loss='categorical_crossentropy', optimizer=opt, metrics=['accuracy'])\n",
    "\n",
    "print(model.summary())"
   ]
  },
  {
   "cell_type": "markdown",
   "metadata": {},
   "source": [
    "### Training data on CNN and calibrating epoch"
   ]
  },
  {
   "cell_type": "code",
   "execution_count": 112,
   "metadata": {},
   "outputs": [
    {
     "name": "stdout",
     "output_type": "stream",
     "text": [
      "Epoch 1/20\n",
      "187/187 [==============================] - 38s 202ms/step - loss: 1.3551 - acc: 0.3840 - val_loss: 1.1554 - val_acc: 0.5274\n",
      "Epoch 2/20\n",
      "187/187 [==============================] - 36s 193ms/step - loss: 0.7691 - acc: 0.7228 - val_loss: 0.4790 - val_acc: 0.8227\n",
      "Epoch 3/20\n",
      "187/187 [==============================] - 36s 193ms/step - loss: 0.4490 - acc: 0.8197 - val_loss: 0.4100 - val_acc: 0.8389\n",
      "Epoch 4/20\n",
      "187/187 [==============================] - 36s 192ms/step - loss: 0.4100 - acc: 0.8237 - val_loss: 0.3977 - val_acc: 0.8222\n",
      "Epoch 5/20\n",
      "187/187 [==============================] - 36s 193ms/step - loss: 0.3715 - acc: 0.8391 - val_loss: 0.3696 - val_acc: 0.8481\n",
      "Epoch 6/20\n",
      "187/187 [==============================] - 36s 193ms/step - loss: 0.3636 - acc: 0.8416 - val_loss: 0.3338 - val_acc: 0.8476\n",
      "Epoch 7/20\n",
      "187/187 [==============================] - 36s 194ms/step - loss: 0.3518 - acc: 0.8478 - val_loss: 0.3437 - val_acc: 0.8404\n",
      "Epoch 8/20\n",
      "187/187 [==============================] - 36s 192ms/step - loss: 0.3357 - acc: 0.8559 - val_loss: 0.3433 - val_acc: 0.8389\n",
      "Epoch 9/20\n",
      "187/187 [==============================] - 36s 193ms/step - loss: 0.3293 - acc: 0.8504 - val_loss: 0.3506 - val_acc: 0.8542\n",
      "Epoch 10/20\n",
      "187/187 [==============================] - 36s 192ms/step - loss: 0.3346 - acc: 0.8518 - val_loss: 0.3424 - val_acc: 0.8486\n",
      "Epoch 11/20\n",
      "187/187 [==============================] - 36s 194ms/step - loss: 0.3234 - acc: 0.8586 - val_loss: 0.3254 - val_acc: 0.8501\n",
      "Epoch 12/20\n",
      "187/187 [==============================] - 36s 193ms/step - loss: 0.3197 - acc: 0.8625 - val_loss: 0.3375 - val_acc: 0.8547\n",
      "Epoch 13/20\n",
      "187/187 [==============================] - 36s 195ms/step - loss: 0.3095 - acc: 0.8665 - val_loss: 0.3557 - val_acc: 0.8511\n",
      "Epoch 14/20\n",
      "187/187 [==============================] - 37s 197ms/step - loss: 0.3096 - acc: 0.8668 - val_loss: 0.3300 - val_acc: 0.8460\n",
      "Epoch 15/20\n",
      "187/187 [==============================] - 36s 193ms/step - loss: 0.2995 - acc: 0.8707 - val_loss: 0.3375 - val_acc: 0.8608\n",
      "Epoch 16/20\n",
      "187/187 [==============================] - 36s 193ms/step - loss: 0.3052 - acc: 0.8710 - val_loss: 0.3238 - val_acc: 0.8511\n",
      "Epoch 17/20\n",
      "187/187 [==============================] - 37s 195ms/step - loss: 0.2919 - acc: 0.8745 - val_loss: 0.3385 - val_acc: 0.8481\n",
      "Epoch 18/20\n",
      "187/187 [==============================] - 36s 194ms/step - loss: 0.3005 - acc: 0.8715 - val_loss: 0.3517 - val_acc: 0.8511\n",
      "Epoch 19/20\n",
      "187/187 [==============================] - 36s 195ms/step - loss: 0.2823 - acc: 0.8785 - val_loss: 0.3576 - val_acc: 0.8450\n",
      "Epoch 20/20\n",
      "187/187 [==============================] - 36s 192ms/step - loss: 0.2934 - acc: 0.8730 - val_loss: 0.2922 - val_acc: 0.8704\n",
      "0:12:06.023677\n"
     ]
    }
   ],
   "source": [
    "from datetime import datetime\n",
    "start = datetime.now()\n",
    "cnn_training = model.fit_generator(train_gen, \n",
    "                                   steps_per_epoch = train_gen.samples // 32,\n",
    "                                   validation_data = val_gen, \n",
    "                                   validation_steps = val_gen.samples // 32,\n",
    "                                   epochs = 20\n",
    "                                  )\n",
    "print(datetime.now() - start)"
   ]
  },
  {
   "cell_type": "markdown",
   "metadata": {},
   "source": [
    "### Plotting learning curve"
   ]
  },
  {
   "cell_type": "code",
   "execution_count": 113,
   "metadata": {},
   "outputs": [
    {
     "data": {
      "image/png": "[encoded data removed]",
      "text/plain": [
       "<Figure size 432x288 with 1 Axes>"
      ]
     },
     "metadata": {
      "needs_background": "light"
     },
     "output_type": "display_data"
    }
   ],
   "source": [
    "num_epochs = 20\n",
    "epoch_nums = range(1,num_epochs+1)\n",
    "training_acc = cnn_training.history[\"loss\"]\n",
    "validation_acc = cnn_training.history[\"val_loss\"]\n",
    "plt.plot(epoch_nums, training_acc)\n",
    "plt.plot(epoch_nums, validation_acc)\n",
    "plt.xlabel('epoch')\n",
    "plt.ylabel('accuracy')\n",
    "plt.legend(['training', 'validation'], loc='upper right')\n",
    "plt.grid()\n",
    "plt.show()"
   ]
  },
  {
   "cell_type": "markdown",
   "metadata": {},
   "source": [
    "### Plotting error graph"
   ]
  },
  {
   "cell_type": "code",
   "execution_count": 114,
   "metadata": {},
   "outputs": [
    {
     "name": "stdout",
     "output_type": "stream",
     "text": [
      "Generating predictions from validation data..\n"
     ]
    },
    {
     "data": {
      "image/png": "[encoded data removed]",
      "text/plain": [
       "<Figure size 432x288 with 2 Axes>"
      ]
     },
     "metadata": {
      "needs_background": "light"
     },
     "output_type": "display_data"
    }
   ],
   "source": [
    "print(\"Generating predictions from validation data..\")\n",
    "\n",
    "x_test = val_gen[0][0]\n",
    "y_test = val_gen[0][1]\n",
    "\n",
    "class_probabilities = model.predict(x_test)\n",
    "\n",
    "predictions = np.argmax(class_probabilities, axis=1)\n",
    "\n",
    "true_labels = np.argmax(y_test, axis=1)\n",
    "\n",
    "classes = [\"Brown\", \"Blue\", \"Green\", \"Gray\" , \"Black\"]\n",
    "\n",
    "cm = confusion_matrix(true_labels, predictions)\n",
    "plt.imshow(cm, interpolation=\"nearest\", cmap=plt.cm.Reds)\n",
    "plt.colorbar()\n",
    "plt.title('Confusion Matrix')\n",
    "plt.xlabel(\"Predicted Class\")\n",
    "plt.ylabel(\"True Class\")\n",
    "plt.show()"
   ]
  },
  {
   "cell_type": "markdown",
   "metadata": {},
   "source": [
    "### CNN model metrix evaluation"
   ]
  },
  {
   "cell_type": "code",
   "execution_count": 161,
   "metadata": {},
   "outputs": [
    {
     "name": "stdout",
     "output_type": "stream",
     "text": [
      "Preparing testing dataset..\n",
      "Found 2000 validated image filenames belonging to 5 classes.\n"
     ]
    }
   ],
   "source": [
    "print(\"Preparing testing dataset..\")\n",
    "test_data = ImageDataGenerator(rescale=1./255)\n",
    "test_gen = test_data.flow_from_dataframe(dataframe=test,\n",
    "                                            directory=srcdir,\n",
    "                                            x_col=xcol,\n",
    "                                            y_col=ycol,\n",
    "                                            class_mode=\"categorical\",\n",
    "                                            target_size = (64,64),\n",
    "                                            batch_size=1,\n",
    "                                            shuffle=False\n",
    "                                           )\n",
    "\n",
    "filenames = test_gen.filenames\n",
    "nb_samples = len(filenames)\n",
    "\n",
    "prob = model.predict_generator(test_gen,steps = nb_samples)"
   ]
  },
  {
   "cell_type": "code",
   "execution_count": 162,
   "metadata": {},
   "outputs": [
    {
     "name": "stdout",
     "output_type": "stream",
     "text": [
      "2000\n",
      "2000\n"
     ]
    }
   ],
   "source": [
    "print(len(filenames))\n",
    "print(len(prob))"
   ]
  },
  {
   "cell_type": "code",
   "execution_count": 163,
   "metadata": {},
   "outputs": [
    {
     "name": "stdout",
     "output_type": "stream",
     "text": [
      "2000\n",
      "[[352  10   5  28   4]\n",
      " [ 25 357   4  24   5]\n",
      " [ 34  17 324  23  10]\n",
      " [ 26   7   4 349  10]\n",
      " [ 33  12   8  25 304]]\n"
     ]
    }
   ],
   "source": [
    "pred = np.argmax(prob, axis=1)\n",
    "true = np.array(test_gen.classes)\n",
    "print(len(pred))\n",
    "\n",
    "newcm = confusion_matrix(true, pred)\n",
    "\n",
    "print(newcm)"
   ]
  },
  {
   "cell_type": "code",
   "execution_count": 164,
   "metadata": {},
   "outputs": [
    {
     "data": {
      "image/png": "[encoded data removed]",
      "text/plain": [
       "<Figure size 432x288 with 2 Axes>"
      ]
     },
     "metadata": {
      "needs_background": "light"
     },
     "output_type": "display_data"
    }
   ],
   "source": [
    "plt.imshow(newcm, interpolation=\"nearest\", cmap=plt.cm.Blues)\n",
    "plt.colorbar()\n",
    "# tick_marks = np.arange(len(classes))\n",
    "plt.title('Confusion Matrix')\n",
    "plt.xlabel(\"Predicted Class\")\n",
    "plt.ylabel(\"True Class\")\n",
    "plt.show()"
   ]
  },
  {
   "cell_type": "code",
   "execution_count": 165,
   "metadata": {},
   "outputs": [
    {
     "name": "stdout",
     "output_type": "stream",
     "text": [
      "Accuracy :0.843\n",
      "Precision :0.8528236896184529\n",
      "Recall :0.842737754867289\n",
      "F1 Score :0.8439860280415671\n"
     ]
    }
   ],
   "source": [
    "acc = accuracy_score(true, pred)\n",
    "rec = recall_score(true, pred, pos_label = 'positive', average ='macro') ## Weighted using macro\n",
    "pre = precision_score(true,pred, pos_label = 'positive', average ='macro') ## Weighted using macro\n",
    "f1 = f1_score(true,pred, pos_label = 'positive', average ='macro') ## Weighted using macro\n",
    "print(\"Accuracy :\" + str(acc))\n",
    "print(\"Precision :\" + str(pre))\n",
    "print(\"Recall :\" + str(rec))\n",
    "print(\"F1 Score :\" + str(f1))"
   ]
  },
  {
   "cell_type": "code",
   "execution_count": null,
   "metadata": {},
   "outputs": [],
   "source": []
  },
  {
   "cell_type": "markdown",
   "metadata": {},
   "source": [
    "## Testing on new dataset"
   ]
  },
  {
   "cell_type": "code",
   "execution_count": 166,
   "metadata": {},
   "outputs": [
    {
     "data": {
      "text/html": [
       "<div>\n",
       "<style scoped>\n",
       "    .dataframe tbody tr th:only-of-type {\n",
       "        vertical-align: middle;\n",
       "    }\n",
       "\n",
       "    .dataframe tbody tr th {\n",
       "        vertical-align: top;\n",
       "    }\n",
       "\n",
       "    .dataframe thead th {\n",
       "        text-align: right;\n",
       "    }\n",
       "</style>\n",
       "<table border=\"1\" class=\"dataframe\">\n",
       "  <thead>\n",
       "    <tr style=\"text-align: right;\">\n",
       "      <th></th>\n",
       "      <th>eye_color</th>\n",
       "      <th>img_name</th>\n",
       "      <th>colors</th>\n",
       "    </tr>\n",
       "  </thead>\n",
       "  <tbody>\n",
       "    <tr>\n",
       "      <th>0</th>\n",
       "      <td>2</td>\n",
       "      <td>0.png</td>\n",
       "      <td>green</td>\n",
       "    </tr>\n",
       "    <tr>\n",
       "      <th>1</th>\n",
       "      <td>1</td>\n",
       "      <td>1.png</td>\n",
       "      <td>blue</td>\n",
       "    </tr>\n",
       "    <tr>\n",
       "      <th>2</th>\n",
       "      <td>0</td>\n",
       "      <td>2.png</td>\n",
       "      <td>brown</td>\n",
       "    </tr>\n",
       "    <tr>\n",
       "      <th>3</th>\n",
       "      <td>0</td>\n",
       "      <td>3.png</td>\n",
       "      <td>brown</td>\n",
       "    </tr>\n",
       "    <tr>\n",
       "      <th>4</th>\n",
       "      <td>3</td>\n",
       "      <td>4.png</td>\n",
       "      <td>gray</td>\n",
       "    </tr>\n",
       "    <tr>\n",
       "      <th>...</th>\n",
       "      <td>...</td>\n",
       "      <td>...</td>\n",
       "      <td>...</td>\n",
       "    </tr>\n",
       "    <tr>\n",
       "      <th>2495</th>\n",
       "      <td>4</td>\n",
       "      <td>2495.png</td>\n",
       "      <td>black</td>\n",
       "    </tr>\n",
       "    <tr>\n",
       "      <th>2496</th>\n",
       "      <td>2</td>\n",
       "      <td>2496.png</td>\n",
       "      <td>green</td>\n",
       "    </tr>\n",
       "    <tr>\n",
       "      <th>2497</th>\n",
       "      <td>2</td>\n",
       "      <td>2497.png</td>\n",
       "      <td>green</td>\n",
       "    </tr>\n",
       "    <tr>\n",
       "      <th>2498</th>\n",
       "      <td>4</td>\n",
       "      <td>2498.png</td>\n",
       "      <td>black</td>\n",
       "    </tr>\n",
       "    <tr>\n",
       "      <th>2499</th>\n",
       "      <td>3</td>\n",
       "      <td>2499.png</td>\n",
       "      <td>gray</td>\n",
       "    </tr>\n",
       "  </tbody>\n",
       "</table>\n",
       "<p>2500 rows × 3 columns</p>\n",
       "</div>"
      ],
      "text/plain": [
       "     eye_color  img_name colors\n",
       "0            2     0.png  green\n",
       "1            1     1.png   blue\n",
       "2            0     2.png  brown\n",
       "3            0     3.png  brown\n",
       "4            3     4.png   gray\n",
       "...        ...       ...    ...\n",
       "2495         4  2495.png  black\n",
       "2496         2  2496.png  green\n",
       "2497         2  2497.png  green\n",
       "2498         4  2498.png  black\n",
       "2499         3  2499.png   gray\n",
       "\n",
       "[2500 rows x 3 columns]"
      ]
     },
     "execution_count": 166,
     "metadata": {},
     "output_type": "execute_result"
    }
   ],
   "source": [
    "newdir = '/Users/shyhhao/Documents/dataset_test_AMLS_19-20/cartoon_set_test/img'\n",
    "df_new = pd.read_csv(\"/Users/shyhhao/Documents/dataset_test_AMLS_19-20/cartoon_set_test/labels.csv\")\n",
    "df_new = pd.DataFrame(df_new).reset_index()\n",
    "df_new.columns = ['Index', 'Total']\n",
    "del df_new['Index']\n",
    "df_new['eye_color'] = df_new['Total'].str.split('\\t').str[1]\n",
    "df_new['face_shape'] = df_new['Total'].str.split('\\t').str[2]\n",
    "df_new['img_name'] = df_new['Total'].str.split('\\t').str[3]\n",
    "del df_new['Total']\n",
    "del df_new['face_shape']\n",
    "df_new\n",
    "\n",
    "eyescolor = []\n",
    "for i in range(len(df_new.eye_color)):\n",
    "    if df_new.eye_color.loc[i] == '0':\n",
    "        eyescolor.append('brown')\n",
    "    elif df_new.eye_color.loc[i] == '1':\n",
    "        eyescolor.append('blue')\n",
    "    elif df_new.eye_color.loc[i] == '2':\n",
    "        eyescolor.append('green')\n",
    "    elif df_new.eye_color.loc[i] == '3':\n",
    "        eyescolor.append('gray')\n",
    "    elif df_new.eye_color.loc[i] == '4':\n",
    "        eyescolor.append('black')\n",
    "df_new['colors'] = eyescolor\n",
    "df_new"
   ]
  },
  {
   "cell_type": "code",
   "execution_count": 167,
   "metadata": {},
   "outputs": [
    {
     "name": "stdout",
     "output_type": "stream",
     "text": [
      "Found 2500 validated image filenames belonging to 5 classes.\n"
     ]
    }
   ],
   "source": [
    "xcol = 'img_name'\n",
    "ycol = 'colors'\n",
    "test_newdata = ImageDataGenerator(rescale=1./255)\n",
    "val_gen_new = test_newdata.flow_from_dataframe(dataframe = df_new,\n",
    "                                       directory = newdir,\n",
    "                                       x_col = xcol,\n",
    "                                       y_col = ycol,\n",
    "                                       class_mode = 'categorical',\n",
    "                                       target_size = (64,64),\n",
    "                                       batch_size = 1,\n",
    "                                       shuffle = False\n",
    "                                      )"
   ]
  },
  {
   "cell_type": "code",
   "execution_count": 172,
   "metadata": {},
   "outputs": [],
   "source": [
    "new_filenames = val_gen_new.filenames\n",
    "nb_samples = len(new_filenames)\n",
    "\n",
    "new_prob = model.predict_generator(val_gen_new,steps = nb_samples)"
   ]
  },
  {
   "cell_type": "code",
   "execution_count": 173,
   "metadata": {},
   "outputs": [
    {
     "name": "stdout",
     "output_type": "stream",
     "text": [
      "2500 2500\n"
     ]
    }
   ],
   "source": [
    "print(len(new_filenames), len(new_prob))"
   ]
  },
  {
   "cell_type": "code",
   "execution_count": 174,
   "metadata": {},
   "outputs": [
    {
     "name": "stdout",
     "output_type": "stream",
     "text": [
      "2500\n",
      "[[423   9   7  27   6]\n",
      " [ 34 397   9  40   3]\n",
      " [ 44   7 403  45   7]\n",
      " [ 46  12   5 442   9]\n",
      " [ 30  16  10  37 432]]\n"
     ]
    }
   ],
   "source": [
    "new_pred = np.argmax(new_prob, axis=1)\n",
    "new_true = np.array(val_gen_new.classes)\n",
    "print(len(new_pred))\n",
    "\n",
    "newcm = confusion_matrix(new_true, new_pred)\n",
    "\n",
    "print(newcm)"
   ]
  },
  {
   "cell_type": "code",
   "execution_count": 177,
   "metadata": {},
   "outputs": [
    {
     "data": {
      "image/png": "[encoded data removed]",
      "text/plain": [
       "<Figure size 432x288 with 2 Axes>"
      ]
     },
     "metadata": {
      "needs_background": "light"
     },
     "output_type": "display_data"
    }
   ],
   "source": [
    "plt.imshow(newcm, interpolation=\"nearest\", cmap=plt.cm.Blues)\n",
    "plt.colorbar()\n",
    "# tick_marks = np.arange(len(classes))\n",
    "plt.title('New Confusion Matrix')\n",
    "plt.xlabel(\"New Predicted Class\")\n",
    "plt.ylabel(\"New True Class\")\n",
    "plt.show()"
   ]
  },
  {
   "cell_type": "code",
   "execution_count": 178,
   "metadata": {},
   "outputs": [
    {
     "name": "stdout",
     "output_type": "stream",
     "text": [
      "Accuracy :0.8388\n",
      "Precision :0.8510161569132638\n",
      "Recall :0.8394709240085456\n",
      "F1 Score :0.8406147198368226\n"
     ]
    }
   ],
   "source": [
    "acc = accuracy_score(new_true, new_pred)\n",
    "rec = recall_score(new_true, new_pred, pos_label = 'positive', average ='macro') ## Weighted using macro\n",
    "pre = precision_score(new_true,new_pred, pos_label = 'positive', average ='macro') ## Weighted using macro\n",
    "f1 = f1_score(new_true,new_pred, pos_label = 'positive', average ='macro') ## Weighted using macro\n",
    "print(\"Accuracy :\" + str(acc))\n",
    "print(\"Precision :\" + str(pre))\n",
    "print(\"Recall :\" + str(rec))\n",
    "print(\"F1 Score :\" + str(f1))"
   ]
  },
  {
   "cell_type": "code",
   "execution_count": null,
   "metadata": {},
   "outputs": [],
   "source": []
  }
 ],
 "metadata": {
  "kernelspec": {
   "display_name": "Python 3",
   "language": "python",
   "name": "python3"
  },
  "language_info": {
   "codemirror_mode": {
    "name": "ipython",
    "version": 3
   },
   "file_extension": ".py",
   "mimetype": "text/x-python",
   "name": "python",
   "nbconvert_exporter": "python",
   "pygments_lexer": "ipython3",
   "version": "3.7.3"
  }
 },
 "nbformat": 4,
 "nbformat_minor": 4
}
