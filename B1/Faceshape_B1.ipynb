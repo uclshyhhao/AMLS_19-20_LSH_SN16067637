{
 "cells": [
  {
   "cell_type": "code",
   "execution_count": 2,
   "metadata": {},
   "outputs": [
    {
     "name": "stderr",
     "output_type": "stream",
     "text": [
      "Using TensorFlow backend.\n",
      "/Users/shyhhao/anaconda3/lib/python3.7/site-packages/tensorflow/python/framework/dtypes.py:516: FutureWarning: Passing (type, 1) or '1type' as a synonym of type is deprecated; in a future version of numpy, it will be understood as (type, (1,)) / '(1,)type'.\n",
      "  _np_qint8 = np.dtype([(\"qint8\", np.int8, 1)])\n",
      "/Users/shyhhao/anaconda3/lib/python3.7/site-packages/tensorflow/python/framework/dtypes.py:517: FutureWarning: Passing (type, 1) or '1type' as a synonym of type is deprecated; in a future version of numpy, it will be understood as (type, (1,)) / '(1,)type'.\n",
      "  _np_quint8 = np.dtype([(\"quint8\", np.uint8, 1)])\n",
      "/Users/shyhhao/anaconda3/lib/python3.7/site-packages/tensorflow/python/framework/dtypes.py:518: FutureWarning: Passing (type, 1) or '1type' as a synonym of type is deprecated; in a future version of numpy, it will be understood as (type, (1,)) / '(1,)type'.\n",
      "  _np_qint16 = np.dtype([(\"qint16\", np.int16, 1)])\n",
      "/Users/shyhhao/anaconda3/lib/python3.7/site-packages/tensorflow/python/framework/dtypes.py:519: FutureWarning: Passing (type, 1) or '1type' as a synonym of type is deprecated; in a future version of numpy, it will be understood as (type, (1,)) / '(1,)type'.\n",
      "  _np_quint16 = np.dtype([(\"quint16\", np.uint16, 1)])\n",
      "/Users/shyhhao/anaconda3/lib/python3.7/site-packages/tensorflow/python/framework/dtypes.py:520: FutureWarning: Passing (type, 1) or '1type' as a synonym of type is deprecated; in a future version of numpy, it will be understood as (type, (1,)) / '(1,)type'.\n",
      "  _np_qint32 = np.dtype([(\"qint32\", np.int32, 1)])\n",
      "/Users/shyhhao/anaconda3/lib/python3.7/site-packages/tensorflow/python/framework/dtypes.py:525: FutureWarning: Passing (type, 1) or '1type' as a synonym of type is deprecated; in a future version of numpy, it will be understood as (type, (1,)) / '(1,)type'.\n",
      "  np_resource = np.dtype([(\"resource\", np.ubyte, 1)])\n",
      "/Users/shyhhao/anaconda3/lib/python3.7/site-packages/tensorboard/compat/tensorflow_stub/dtypes.py:541: FutureWarning: Passing (type, 1) or '1type' as a synonym of type is deprecated; in a future version of numpy, it will be understood as (type, (1,)) / '(1,)type'.\n",
      "  _np_qint8 = np.dtype([(\"qint8\", np.int8, 1)])\n",
      "/Users/shyhhao/anaconda3/lib/python3.7/site-packages/tensorboard/compat/tensorflow_stub/dtypes.py:542: FutureWarning: Passing (type, 1) or '1type' as a synonym of type is deprecated; in a future version of numpy, it will be understood as (type, (1,)) / '(1,)type'.\n",
      "  _np_quint8 = np.dtype([(\"quint8\", np.uint8, 1)])\n",
      "/Users/shyhhao/anaconda3/lib/python3.7/site-packages/tensorboard/compat/tensorflow_stub/dtypes.py:543: FutureWarning: Passing (type, 1) or '1type' as a synonym of type is deprecated; in a future version of numpy, it will be understood as (type, (1,)) / '(1,)type'.\n",
      "  _np_qint16 = np.dtype([(\"qint16\", np.int16, 1)])\n",
      "/Users/shyhhao/anaconda3/lib/python3.7/site-packages/tensorboard/compat/tensorflow_stub/dtypes.py:544: FutureWarning: Passing (type, 1) or '1type' as a synonym of type is deprecated; in a future version of numpy, it will be understood as (type, (1,)) / '(1,)type'.\n",
      "  _np_quint16 = np.dtype([(\"quint16\", np.uint16, 1)])\n",
      "/Users/shyhhao/anaconda3/lib/python3.7/site-packages/tensorboard/compat/tensorflow_stub/dtypes.py:545: FutureWarning: Passing (type, 1) or '1type' as a synonym of type is deprecated; in a future version of numpy, it will be understood as (type, (1,)) / '(1,)type'.\n",
      "  _np_qint32 = np.dtype([(\"qint32\", np.int32, 1)])\n",
      "/Users/shyhhao/anaconda3/lib/python3.7/site-packages/tensorboard/compat/tensorflow_stub/dtypes.py:550: FutureWarning: Passing (type, 1) or '1type' as a synonym of type is deprecated; in a future version of numpy, it will be understood as (type, (1,)) / '(1,)type'.\n",
      "  np_resource = np.dtype([(\"resource\", np.ubyte, 1)])\n"
     ]
    }
   ],
   "source": [
    "import os\n",
    "import sys\n",
    "sys.path.append(os.path.abspath(r\"//Users/shyhhao/Documents/AML_Assignment/AMLSassignment19_-20_SN16067637/B1\"))\n",
    "\n",
    "import B1_landmarks as b1\n",
    "import numpy as np\n",
    "import matplotlib.pyplot as plt\n",
    "from sklearn.metrics import classification_report,accuracy_score\n",
    "from sklearn import svm\n",
    "from sklearn.model_selection import train_test_split\n",
    "from sklearn.model_selection import GridSearchCV\n",
    "from sklearn.preprocessing import StandardScaler\n",
    "from sklearn.model_selection import learning_curve\n",
    "from sklearn.model_selection import ShuffleSplit\n",
    "from sklearn.metrics import confusion_matrix\n",
    "from matplotlib.colors import ListedColormap\n"
   ]
  },
  {
   "cell_type": "code",
   "execution_count": 3,
   "metadata": {},
   "outputs": [],
   "source": [
    "def get_data_B1():\n",
    "\n",
    "    X_B1, y_B1 = b1.extract_features_labels()\n",
    "    Y_B1 = np.array([y_B1, -(y_B1 - 1)]).T\n",
    "\n",
    "    # Rescaling Data\n",
    "    scaler = StandardScaler()\n",
    "    temp_X_reshape = X_B1.reshape(len(X_B1), len(X_B1[0]) * len(X_B1[0][0]))\n",
    "    temp_X_B1 = scaler.fit_transform(temp_X_reshape)\n",
    "\n",
    "    tr_X_B1, te_X_B1, tr_Y_B1, te_Y_B1 = train_test_split(temp_X_B1, Y_B1, test_size=0.3, random_state=0)\n",
    "\n",
    "#     print(tr_X_B1.shape)\n",
    "#     print(te_X_B1.shape)\n",
    "#     print(tr_Y_B1.shape)\n",
    "#     print(te_Y_B1.shape)\n",
    "    \n",
    "    return tr_X_B1, tr_Y_B1, te_X_B1, te_Y_B1\n"
   ]
  },
  {
   "cell_type": "code",
   "execution_count": 4,
   "metadata": {},
   "outputs": [],
   "source": [
    "def B1_SVM(training_images, training_labels, test_images, test_labels):\n",
    "#     classifier = svm.SVC(kernel='linear', C = 0.05)\n",
    "    tuned_parameters = [{'kernel': ['linear'], 'C': [1, 10, 100]},\n",
    "                        {'kernel': ['rbf'], 'gamma': [1e-3, 1e-4], 'C':[1, 10, 100]},\n",
    "                        {'kernel': ['poly'], 'degree': [2, 3], 'C': [1, 10, 100]}\n",
    "                        ]\n",
    "    classifier = GridSearchCV(svm.SVC(), tuned_parameters, n_jobs = -1)\n",
    "#     lab_enc = preprocessing.LabelEncoder()\n",
    "    classifier.fit(training_images, training_labels)\n",
    "                                \n",
    "#  SVM Accuracy\n",
    "    acc_B1_train = classifier.best_score_\n",
    "\n",
    "#  Choosing the best accuracy using GridSearchCV\n",
    "    pred_B1 = classifier.best_estimator_.predict(test_images)\n",
    "    acc_B1_test = accuracy_score(test_labels, pred_B1)\n",
    "    \n",
    "    print(classifier.best_estimator_)\n",
    "    print()\n",
    "    print(classifier.best_params_)\n",
    "    \n",
    "    return acc_B1_train, acc_B1_test, pred_B1\n",
    "#     pred = classifier.predict(test_images)\n",
    "#     print(pred)\n",
    "#     print(\"Accuracy:\", accuracy_score(test_labels, pred))\n",
    "    \n"
   ]
  },
  {
   "cell_type": "code",
   "execution_count": 5,
   "metadata": {},
   "outputs": [
    {
     "name": "stderr",
     "output_type": "stream",
     "text": [
      "/Users/shyhhao/anaconda3/lib/python3.7/site-packages/sklearn/model_selection/_split.py:1978: FutureWarning: The default value of cv will change from 3 to 5 in version 0.22. Specify it explicitly to silence this warning.\n",
      "  warnings.warn(CV_WARNING, FutureWarning)\n"
     ]
    },
    {
     "name": "stdout",
     "output_type": "stream",
     "text": [
      "SVC(C=100, cache_size=200, class_weight=None, coef0=0.0,\n",
      "    decision_function_shape='ovr', degree=3, gamma=0.001, kernel='rbf',\n",
      "    max_iter=-1, probability=False, random_state=None, shrinking=True,\n",
      "    tol=0.001, verbose=False)\n",
      "\n",
      "{'C': 100, 'gamma': 0.001, 'kernel': 'rbf'}\n",
      "TB1:0.7556022408963585,0.7781402936378466\n",
      "0:03:41.717075\n"
     ]
    }
   ],
   "source": [
    "# Run B1 accuracy test(MAIN.py)\n",
    "from datetime import datetime\n",
    "start = datetime.now()\n",
    "    \n",
    "tr_X_B1, tr_Y_B1, te_X_B1, te_Y_B1= get_data_B1()\n",
    "\n",
    "model_B1 = B1_SVM(tr_X_B1, list(zip(*tr_Y_B1))[0], te_X_B1, list(zip(*te_Y_B1))[0])\n",
    "\n",
    "acc_B1_train, acc_B1_test, pred_B1 = model_B1\n",
    "\n",
    "print('TB1:{},{}'.format(acc_B1_train, acc_B1_test))\n",
    "\n",
    "print(datetime.now() - start)\n",
    "\n",
    "###IGNORE BELOW, FOR DEBUGGING PURPOSES\n",
    "# from datetime import datetime\n",
    "# start = datetime.now()\n",
    "    \n",
    "# try:\n",
    "# \ttr_X_B1, tr_Y_B1, te_X_B1, te_Y_B1= get_data_B1()\n",
    "\n",
    "# \tmodel_B1 = B1_SVM(tr_X_B1, list(zip(*tr_Y_B1))[0], te_X_B1, list(zip(*te_Y_B1))[0])\n",
    "\n",
    "# \tacc_B1_train, acc_B1_test, pred_B1 = model_B1\n",
    "    \n",
    "#     print('TB1:{},{}'.format(acc_B1_train, acc_B1_test))\n",
    "# except Exception as e:\n",
    "# \tprint(e)\n",
    "\n",
    "# print(datetime.now() - start)"
   ]
  },
  {
   "cell_type": "code",
   "execution_count": 6,
   "metadata": {},
   "outputs": [],
   "source": [
    "# def plot_learning_curve(estimator, title, X, y, ylim=None, cv=None,\n",
    "#                         train_sizes=np.linspace(.1, 1.0, 5)):\n",
    "#     \"\"\"\n",
    "#     Generate a simple plot of the test and training learning curve.\n",
    "\n",
    "#     Parameters\n",
    "#     ----------\n",
    "#     estimator : object type that implements the \"fit\" and \"predict\" methods\n",
    "#         An object of that type which is cloned for each validation.\n",
    "\n",
    "#     title : string\n",
    "#         Title for the chart.\n",
    "\n",
    "#     X : array-like, shape (n_samples, n_features)\n",
    "#         Training vector, where n_samples is the number of samples and\n",
    "#         n_features is the number of features.\n",
    "\n",
    "#     y : array-like, shape (n_samples) or (n_samples, n_features), optional\n",
    "#         Target relative to X for classification or regression;\n",
    "#         None for unsupervised learning.\n",
    "\n",
    "#     ylim : tuple, shape (ymin, ymax), optional\n",
    "#         Defines minimum and maximum yvalues plotted.\n",
    "\n",
    "#     cv : integer, cross-validation generator, optional\n",
    "#         If an integer is passed, it is the number of folds (defaults to 3).\n",
    "#         Specific cross-validation objects can be passed, see\n",
    "#         sklearn.cross_validation module for the list of possible objects\n",
    "#     \"\"\"\n",
    "    \n",
    "#     if axes is None:\n",
    "#         _, axes = plt.subplots(1, 3, figsize=(20, 5))\n",
    "\n",
    "#     axes[0].set_title(title)\n",
    "#     if ylim is not None:\n",
    "#         axes[0].set_ylim(*ylim)\n",
    "#     axes[0].set_xlabel(\"Training examples\")\n",
    "#     axes[0].set_ylabel(\"Score\")\n",
    "\n",
    "#     train_sizes, train_scores, test_scores, fit_times, _ = \\\n",
    "#         learning_curve(estimator, X, y, cv=cv, n_jobs=n_jobs,\n",
    "#                        train_sizes=train_sizes,\n",
    "#                        return_times=True)\n",
    "#     train_scores_mean = np.mean(train_scores, axis=1)\n",
    "#     train_scores_std = np.std(train_scores, axis=1)\n",
    "#     test_scores_mean = np.mean(test_scores, axis=1)\n",
    "#     test_scores_std = np.std(test_scores, axis=1)\n",
    "#     fit_times_mean = np.mean(fit_times, axis=1)\n",
    "#     fit_times_std = np.std(fit_times, axis=1)\n",
    "    \n",
    "#     # Plot learning curve\n",
    "#     axes[0].grid()\n",
    "#     axes[0].fill_between(train_sizes, train_scores_mean - train_scores_std,\n",
    "#                          train_scores_mean + train_scores_std, alpha=0.1,\n",
    "#                          color=\"r\")\n",
    "#     axes[0].fill_between(train_sizes, test_scores_mean - test_scores_std,\n",
    "#                          test_scores_mean + test_scores_std, alpha=0.1,\n",
    "#                          color=\"g\")\n",
    "#     axes[0].plot(train_sizes, train_scores_mean, 'o-', color=\"r\",\n",
    "#                  label=\"Training score\")\n",
    "#     axes[0].plot(train_sizes, test_scores_mean, 'o-', color=\"g\",\n",
    "#                  label=\"Cross-validation score\")\n",
    "#     axes[0].legend(loc=\"best\")\n",
    "\n",
    "#     # Plot n_samples vs fit_times\n",
    "#     axes[1].grid()\n",
    "#     axes[1].plot(train_sizes, fit_times_mean, 'o-')\n",
    "#     axes[1].fill_between(train_sizes, fit_times_mean - fit_times_std,\n",
    "#                          fit_times_mean + fit_times_std, alpha=0.1)\n",
    "#     axes[1].set_xlabel(\"Training examples\")\n",
    "#     axes[1].set_ylabel(\"fit_times\")\n",
    "#     axes[1].set_title(\"Scalability of the model\")\n",
    "\n",
    "#     # Plot fit_time vs score\n",
    "#     axes[2].grid()\n",
    "#     axes[2].plot(fit_times_mean, test_scores_mean, 'o-')\n",
    "#     axes[2].fill_between(fit_times_mean, test_scores_mean - test_scores_std,\n",
    "#                          test_scores_mean + test_scores_std, alpha=0.1)\n",
    "#     axes[2].set_xlabel(\"fit_times\")\n",
    "#     axes[2].set_ylabel(\"Score\")\n",
    "#     axes[2].set_title(\"Performance of the model\")\n",
    "\n",
    "#     return plt"
   ]
  },
  {
   "cell_type": "code",
   "execution_count": 6,
   "metadata": {},
   "outputs": [],
   "source": [
    "def plot_learning_curve(estimator, title, X, y, ylim=None, cv=None,\n",
    "                        n_jobs=1, train_sizes=np.linspace(.1, 1.0, 5)):\n",
    "    \n",
    "    plt.figure()\n",
    "    plt.title(title)\n",
    "    if ylim is not None:\n",
    "        plt.ylim(*ylim)\n",
    "    plt.xlabel(\"Training examples\")\n",
    "    plt.ylabel(\"Score\")\n",
    "    train_sizes, train_scores, test_scores = learning_curve(\n",
    "        estimator, X, y, cv=cv, n_jobs=n_jobs, train_sizes=train_sizes)\n",
    "    train_scores_mean = np.mean(train_scores, axis=1)\n",
    "    train_scores_std = np.std(train_scores, axis=1)\n",
    "    test_scores_mean = np.mean(test_scores, axis=1)\n",
    "    test_scores_std = np.std(test_scores, axis=1)\n",
    "    plt.grid()\n",
    "\n",
    "    plt.fill_between(train_sizes, train_scores_mean - train_scores_std,\n",
    "                     train_scores_mean + train_scores_std, alpha=0.1,\n",
    "                     color=\"r\")\n",
    "    plt.fill_between(train_sizes, test_scores_mean - test_scores_std,\n",
    "                     test_scores_mean + test_scores_std, alpha=0.1, color=\"b\")\n",
    "    plt.plot(train_sizes, train_scores_mean, 'o-', color=\"r\",\n",
    "             label=\"Training score\")\n",
    "    plt.plot(train_sizes, test_scores_mean, 'o-', color=\"b\",\n",
    "             label=\"Cross-validation score\")\n",
    "\n",
    "    plt.legend(loc=\"best\")\n",
    "    return plt"
   ]
  },
  {
   "cell_type": "code",
   "execution_count": 7,
   "metadata": {},
   "outputs": [
    {
     "data": {
      "image/png": "[encoded data removed]",
      "text/plain": [
       "<Figure size 432x288 with 1 Axes>"
      ]
     },
     "metadata": {
      "needs_background": "light"
     },
     "output_type": "display_data"
    }
   ],
   "source": [
    "# Learning Curve\n",
    "title = \"Learning Curves SVM\"\n",
    "\n",
    "cv = ShuffleSplit(n_splits=100, test_size=0.2, random_state=0)\n",
    "estimator = svm.SVC(kernel='rbf', gamma=1e-3, C=100)\n",
    "X, y = tr_X_B1, list(zip(*tr_Y_B1))[0]\n",
    "plot_learning_curve(estimator, title, X, y, (0.6, 0.9), cv=cv, n_jobs=-1)\n",
    "\n",
    "plt.show()"
   ]
  },
  {
   "cell_type": "code",
   "execution_count": 8,
   "metadata": {},
   "outputs": [
    {
     "data": {
      "text/plain": [
       "<function matplotlib.pyplot.show(*args, **kw)>"
      ]
     },
     "execution_count": 8,
     "metadata": {},
     "output_type": "execute_result"
    },
    {
     "data": {
      "image/png": "[encoded data removed]",
      "text/plain": [
       "<Figure size 288x288 with 2 Axes>"
      ]
     },
     "metadata": {
      "needs_background": "light"
     },
     "output_type": "display_data"
    }
   ],
   "source": [
    "test_label = list(zip(*te_Y_B1))[0]\n",
    "cf = confusion_matrix(test_label, pred_B1)\n",
    "# print(cf)\n",
    "\n",
    "cmap = plt.cm.Blues\n",
    "\n",
    "plt.matshow(cf, cmap = cmap)\n",
    "plt.title('Confusion matrix')\n",
    "plt.colorbar()\n",
    "plt.xlabel('predicted')\n",
    "plt.ylabel('actual')\n",
    "plt.show"
   ]
  },
  {
   "cell_type": "markdown",
   "metadata": {},
   "source": [
    "# Using CNN"
   ]
  },
  {
   "cell_type": "code",
   "execution_count": 25,
   "metadata": {},
   "outputs": [],
   "source": [
    "import os\n",
    "import numpy as np\n",
    "import matplotlib.pyplot as plt\n",
    "from sklearn.model_selection import train_test_split\n",
    "from sklearn.utils import shuffle\n",
    "from sklearn.metrics import classification_report, accuracy_score, confusion_matrix, recall_score, precision_score, f1_score\n",
    "import pandas as pd\n",
    "from keras.preprocessing.image import ImageDataGenerator\n",
    "\n",
    "srcdir = '/Users/shyhhao/Documents/AMLSassignment19_-20_LSH_SN16067637/AMLS_19-20_LSH_SN16067637/dataset_AMLS_19-20/dataset_AMLS_19-20/cartoon_set/img'"
   ]
  },
  {
   "cell_type": "code",
   "execution_count": 26,
   "metadata": {},
   "outputs": [
    {
     "data": {
      "text/html": [
       "<div>\n",
       "<style scoped>\n",
       "    .dataframe tbody tr th:only-of-type {\n",
       "        vertical-align: middle;\n",
       "    }\n",
       "\n",
       "    .dataframe tbody tr th {\n",
       "        vertical-align: top;\n",
       "    }\n",
       "\n",
       "    .dataframe thead th {\n",
       "        text-align: right;\n",
       "    }\n",
       "</style>\n",
       "<table border=\"1\" class=\"dataframe\">\n",
       "  <thead>\n",
       "    <tr style=\"text-align: right;\">\n",
       "      <th></th>\n",
       "      <th>face_shape</th>\n",
       "      <th>img_name</th>\n",
       "    </tr>\n",
       "  </thead>\n",
       "  <tbody>\n",
       "    <tr>\n",
       "      <th>0</th>\n",
       "      <td>4</td>\n",
       "      <td>0.png</td>\n",
       "    </tr>\n",
       "    <tr>\n",
       "      <th>1</th>\n",
       "      <td>4</td>\n",
       "      <td>1.png</td>\n",
       "    </tr>\n",
       "    <tr>\n",
       "      <th>2</th>\n",
       "      <td>3</td>\n",
       "      <td>2.png</td>\n",
       "    </tr>\n",
       "    <tr>\n",
       "      <th>3</th>\n",
       "      <td>0</td>\n",
       "      <td>3.png</td>\n",
       "    </tr>\n",
       "    <tr>\n",
       "      <th>4</th>\n",
       "      <td>2</td>\n",
       "      <td>4.png</td>\n",
       "    </tr>\n",
       "    <tr>\n",
       "      <th>...</th>\n",
       "      <td>...</td>\n",
       "      <td>...</td>\n",
       "    </tr>\n",
       "    <tr>\n",
       "      <th>9995</th>\n",
       "      <td>2</td>\n",
       "      <td>9995.png</td>\n",
       "    </tr>\n",
       "    <tr>\n",
       "      <th>9996</th>\n",
       "      <td>3</td>\n",
       "      <td>9996.png</td>\n",
       "    </tr>\n",
       "    <tr>\n",
       "      <th>9997</th>\n",
       "      <td>2</td>\n",
       "      <td>9997.png</td>\n",
       "    </tr>\n",
       "    <tr>\n",
       "      <th>9998</th>\n",
       "      <td>2</td>\n",
       "      <td>9998.png</td>\n",
       "    </tr>\n",
       "    <tr>\n",
       "      <th>9999</th>\n",
       "      <td>2</td>\n",
       "      <td>9999.png</td>\n",
       "    </tr>\n",
       "  </tbody>\n",
       "</table>\n",
       "<p>10000 rows × 2 columns</p>\n",
       "</div>"
      ],
      "text/plain": [
       "     face_shape  img_name\n",
       "0             4     0.png\n",
       "1             4     1.png\n",
       "2             3     2.png\n",
       "3             0     3.png\n",
       "4             2     4.png\n",
       "...         ...       ...\n",
       "9995          2  9995.png\n",
       "9996          3  9996.png\n",
       "9997          2  9997.png\n",
       "9998          2  9998.png\n",
       "9999          2  9999.png\n",
       "\n",
       "[10000 rows x 2 columns]"
      ]
     },
     "execution_count": 26,
     "metadata": {},
     "output_type": "execute_result"
    }
   ],
   "source": [
    "df = pd.read_csv(\"/Users/shyhhao/Documents/AMLSassignment19_-20_LSH_SN16067637/AMLS_19-20_LSH_SN16067637/dataset_AMLS_19-20/dataset_AMLS_19-20/cartoon_set/labels.csv\")\n",
    "df = pd.DataFrame(df).reset_index()\n",
    "df.columns = ['Index', 'Total']\n",
    "del df['Index']\n",
    "df['eye_color'] = df['Total'].str.split('\\t').str[1]\n",
    "df['face_shape'] = df['Total'].str.split('\\t').str[2]\n",
    "df['img_name'] = df['Total'].str.split('\\t').str[3]\n",
    "del df['Total']\n",
    "del df['eye_color']\n",
    "df"
   ]
  },
  {
   "cell_type": "code",
   "execution_count": 24,
   "metadata": {},
   "outputs": [
    {
     "name": "stdout",
     "output_type": "stream",
     "text": [
      "8000\n",
      "2000\n"
     ]
    }
   ],
   "source": [
    "train, test = train_test_split(df, test_size = 0.2, random_state = 0)\n",
    "print(len(train))\n",
    "print(len(test))"
   ]
  },
  {
   "cell_type": "code",
   "execution_count": 18,
   "metadata": {},
   "outputs": [
    {
     "name": "stdout",
     "output_type": "stream",
     "text": [
      "Receiving data..\n",
      "Arranging training dataset..\n",
      "Found 6000 validated image filenames belonging to 5 classes.\n",
      "Arranging validation dataset..\n",
      "Found 2000 validated image filenames belonging to 5 classes.\n"
     ]
    }
   ],
   "source": [
    "xcol = 'img_name'\n",
    "ycol = 'face_shape'\n",
    "\n",
    "print('Receiving data..')\n",
    "data = ImageDataGenerator(rescale = 1./255.,\n",
    "                          validation_split = 0.25,\n",
    "                          horizontal_flip = True,\n",
    "                          vertical_flip = True\n",
    "                         )\n",
    "\n",
    "print('Arranging training dataset..')\n",
    "train_gen = data.flow_from_dataframe(dataframe = train,\n",
    "                                     directory = srcdir,\n",
    "                                     x_col = xcol,\n",
    "                                     y_col = ycol,\n",
    "                                     class_mode = 'categorical',\n",
    "                                     target_size = (64,64),\n",
    "                                     batch_size = 32,\n",
    "                                     subset = 'training'\n",
    "                                    )\n",
    "\n",
    "print('Arranging validation dataset..')\n",
    "val_gen = data.flow_from_dataframe(dataframe = train,\n",
    "                                   directory = srcdir,\n",
    "                                   x_col = xcol,\n",
    "                                   y_col = ycol,\n",
    "                                   class_mode = 'categorical',\n",
    "                                   target_size = (64,64),\n",
    "                                   batch_size = 32,\n",
    "                                   subset = 'validation'\n",
    "                                  )"
   ]
  },
  {
   "cell_type": "code",
   "execution_count": 19,
   "metadata": {},
   "outputs": [
    {
     "name": "stdout",
     "output_type": "stream",
     "text": [
      "_________________________________________________________________\n",
      "Layer (type)                 Output Shape              Param #   \n",
      "=================================================================\n",
      "conv2d_5 (Conv2D)            (None, 62, 62, 24)        672       \n",
      "_________________________________________________________________\n",
      "activation_6 (Activation)    (None, 62, 62, 24)        0         \n",
      "_________________________________________________________________\n",
      "max_pooling2d_3 (MaxPooling2 (None, 31, 31, 24)        0         \n",
      "_________________________________________________________________\n",
      "conv2d_6 (Conv2D)            (None, 29, 29, 24)        5208      \n",
      "_________________________________________________________________\n",
      "activation_7 (Activation)    (None, 29, 29, 24)        0         \n",
      "_________________________________________________________________\n",
      "conv2d_7 (Conv2D)            (None, 27, 27, 48)        10416     \n",
      "_________________________________________________________________\n",
      "activation_8 (Activation)    (None, 27, 27, 48)        0         \n",
      "_________________________________________________________________\n",
      "conv2d_8 (Conv2D)            (None, 25, 25, 72)        31176     \n",
      "_________________________________________________________________\n",
      "activation_9 (Activation)    (None, 25, 25, 72)        0         \n",
      "_________________________________________________________________\n",
      "max_pooling2d_4 (MaxPooling2 (None, 12, 12, 72)        0         \n",
      "_________________________________________________________________\n",
      "flatten_2 (Flatten)          (None, 10368)             0         \n",
      "_________________________________________________________________\n",
      "dense_2 (Dense)              (None, 5)                 51845     \n",
      "_________________________________________________________________\n",
      "activation_10 (Activation)   (None, 5)                 0         \n",
      "=================================================================\n",
      "Total params: 99,317\n",
      "Trainable params: 99,317\n",
      "Non-trainable params: 0\n",
      "_________________________________________________________________\n",
      "None\n"
     ]
    }
   ],
   "source": [
    "from keras import optimizers\n",
    "from keras.models import Sequential\n",
    "from keras.layers import Conv2D, MaxPooling2D, BatchNormalization\n",
    "from keras.layers import Activation, Dropout, Flatten, Dense\n",
    "from keras.preprocessing import image\n",
    "\n",
    "model = Sequential()\n",
    "\n",
    "model.add(Conv2D(24, (3,3), input_shape=train_gen.image_shape))\n",
    "model.add(Activation(\"relu\"))\n",
    "\n",
    "model.add(MaxPooling2D(pool_size=(2,2)))\n",
    "\n",
    "model.add(Conv2D(24, (3,3)))\n",
    "model.add(Activation(\"relu\"))\n",
    "\n",
    "model.add(Conv2D(48, (3,3)))\n",
    "model.add(Activation(\"relu\"))\n",
    "\n",
    "model.add(Conv2D(72, (3,3)))\n",
    "model.add(Activation(\"relu\"))\n",
    "model.add(MaxPooling2D(pool_size=(2,2)))\n",
    "\n",
    "model.add(Flatten())\n",
    "model.add(Dense(5))\n",
    "model.add(Activation(\"softmax\"))\n",
    "\n",
    "opt = optimizers.Adam(lr=0.001)\n",
    "model.compile(loss='categorical_crossentropy', optimizer=opt, metrics=['accuracy'])\n",
    "\n",
    "print(model.summary())"
   ]
  },
  {
   "cell_type": "code",
   "execution_count": 20,
   "metadata": {},
   "outputs": [
    {
     "name": "stdout",
     "output_type": "stream",
     "text": [
      "Epoch 1/10\n",
      "187/187 [==============================] - 53s 281ms/step - loss: 1.4523 - acc: 0.3424 - val_loss: 0.6457 - val_acc: 0.7414\n",
      "Epoch 2/10\n",
      "187/187 [==============================] - 42s 227ms/step - loss: 0.2296 - acc: 0.9238 - val_loss: 0.0762 - val_acc: 0.9792\n",
      "Epoch 3/10\n",
      "187/187 [==============================] - 42s 226ms/step - loss: 0.0646 - acc: 0.9783 - val_loss: 0.0753 - val_acc: 0.9761\n",
      "Epoch 4/10\n",
      "187/187 [==============================] - 38s 202ms/step - loss: 0.0360 - acc: 0.9886 - val_loss: 0.0323 - val_acc: 0.9893\n",
      "Epoch 5/10\n",
      "187/187 [==============================] - 35s 190ms/step - loss: 0.0259 - acc: 0.9920 - val_loss: 0.0268 - val_acc: 0.9903\n",
      "Epoch 6/10\n",
      "187/187 [==============================] - 36s 192ms/step - loss: 0.0283 - acc: 0.9908 - val_loss: 0.0201 - val_acc: 0.9934\n",
      "Epoch 7/10\n",
      "187/187 [==============================] - 37s 199ms/step - loss: 0.0158 - acc: 0.9948 - val_loss: 0.0251 - val_acc: 0.9929\n",
      "Epoch 8/10\n",
      "187/187 [==============================] - 38s 201ms/step - loss: 0.0116 - acc: 0.9962 - val_loss: 0.0105 - val_acc: 0.9970\n",
      "Epoch 9/10\n",
      "187/187 [==============================] - 36s 194ms/step - loss: 0.0109 - acc: 0.9967 - val_loss: 0.0165 - val_acc: 0.9970\n",
      "Epoch 10/10\n",
      "187/187 [==============================] - 37s 198ms/step - loss: 0.0127 - acc: 0.9958 - val_loss: 0.0239 - val_acc: 0.9929\n",
      "0:06:35.151419\n"
     ]
    }
   ],
   "source": [
    "from datetime import datetime\n",
    "start = datetime.now()\n",
    "cnn_training = model.fit_generator(train_gen, \n",
    "                                   steps_per_epoch = train_gen.samples // 32,\n",
    "                                   validation_data = val_gen, \n",
    "                                   validation_steps = val_gen.samples // 32,\n",
    "                                   epochs = 10\n",
    "                                  )\n",
    "print(datetime.now() - start)"
   ]
  },
  {
   "cell_type": "code",
   "execution_count": 21,
   "metadata": {},
   "outputs": [
    {
     "data": {
      "image/png": "[encoded data removed]",
      "text/plain": [
       "<Figure size 432x288 with 1 Axes>"
      ]
     },
     "metadata": {
      "needs_background": "light"
     },
     "output_type": "display_data"
    }
   ],
   "source": [
    "num_epochs = 10\n",
    "epoch_nums = range(1,num_epochs+1)\n",
    "training_acc = cnn_training.history['acc']\n",
    "validation_acc = cnn_training.history['val_acc']\n",
    "plt.plot(epoch_nums, training_acc)\n",
    "plt.plot(epoch_nums, validation_acc)\n",
    "plt.grid()\n",
    "plt.xlabel('epoch')\n",
    "plt.ylabel('accuracy')\n",
    "plt.legend(['training', 'validation'], loc='lower right')\n",
    "plt.show()"
   ]
  },
  {
   "cell_type": "code",
   "execution_count": 22,
   "metadata": {},
   "outputs": [
    {
     "name": "stdout",
     "output_type": "stream",
     "text": [
      "Generating predictions from validation data..\n"
     ]
    },
    {
     "data": {
      "image/png": "[encoded data removed]",
      "text/plain": [
       "<Figure size 432x288 with 2 Axes>"
      ]
     },
     "metadata": {
      "needs_background": "light"
     },
     "output_type": "display_data"
    }
   ],
   "source": [
    "print(\"Generating predictions from validation data..\")\n",
    "\n",
    "x_test = val_gen[0][0]\n",
    "y_test = val_gen[0][1]\n",
    "\n",
    "class_probabilities = model.predict(x_test)\n",
    "\n",
    "predictions = np.argmax(class_probabilities, axis=1)\n",
    "\n",
    "true_labels = np.argmax(y_test, axis=1)\n",
    "\n",
    "classes = [\"0\", \"1\", \"2\", \"3\" , \"4\"]\n",
    "\n",
    "cm = confusion_matrix(true_labels, predictions)\n",
    "# print(cm)\n",
    "\n",
    "plt.imshow(cm, interpolation=\"nearest\", cmap=plt.cm.Reds)\n",
    "plt.colorbar()\n",
    "tick_marks = np.arange(len(classes))\n",
    "plt.title('Confusion Matrix')\n",
    "plt.xlabel(\"Predicted Class\")\n",
    "plt.ylabel(\"True Class\")\n",
    "plt.show()"
   ]
  },
  {
   "cell_type": "markdown",
   "metadata": {},
   "source": [
    "### CNN Metrix Evaluation\n"
   ]
  },
  {
   "cell_type": "code",
   "execution_count": 12,
   "metadata": {},
   "outputs": [
    {
     "name": "stdout",
     "output_type": "stream",
     "text": [
      "Preparing testing dataset..\n",
      "Found 2000 validated image filenames belonging to 5 classes.\n"
     ]
    }
   ],
   "source": [
    "print(\"Preparing testing dataset..\")\n",
    "test_data = ImageDataGenerator(rescale=1./255)\n",
    "test_gen = test_data.flow_from_dataframe(dataframe=test,\n",
    "                                         directory=srcdir,\n",
    "                                         x_col=xcol,\n",
    "                                         y_col=ycol,\n",
    "                                         class_mode=\"categorical\",\n",
    "                                         target_size = (64,64),\n",
    "                                         batch_size=1,\n",
    "                                         shuffle=False\n",
    "                                        )\n",
    "\n",
    "filenames = test_gen.filenames\n",
    "nb_samples = len(filenames)\n",
    "\n",
    "prob = model.predict_generator(test_gen,steps = nb_samples)"
   ]
  },
  {
   "cell_type": "code",
   "execution_count": 13,
   "metadata": {},
   "outputs": [
    {
     "name": "stdout",
     "output_type": "stream",
     "text": [
      "[[402   3   0   0   1]\n",
      " [  1 393   0   2   0]\n",
      " [  0   0 384   2   0]\n",
      " [  1   0   0 390   0]\n",
      " [  2   3   0   3 413]]\n"
     ]
    }
   ],
   "source": [
    "pred = np.argmax(prob, axis=1)\n",
    "true = np.array(test_gen.classes)\n",
    "# print(len(pred))\n",
    "\n",
    "newcm = confusion_matrix(true, pred)\n",
    "print(newcm)"
   ]
  },
  {
   "cell_type": "code",
   "execution_count": 17,
   "metadata": {},
   "outputs": [
    {
     "data": {
      "image/png": "[encoded data removed]",
      "text/plain": [
       "<Figure size 432x288 with 2 Axes>"
      ]
     },
     "metadata": {
      "needs_background": "light"
     },
     "output_type": "display_data"
    }
   ],
   "source": [
    "plt.imshow(newcm, interpolation=\"nearest\", cmap=plt.cm.Blues)\n",
    "plt.colorbar()\n",
    "tick_marks = np.arange(len(classes))\n",
    "plt.title('Confusion Matrix')\n",
    "plt.xlabel(\"Predicted Class\")\n",
    "plt.ylabel(\"True Class\")\n",
    "plt.show()"
   ]
  },
  {
   "cell_type": "code",
   "execution_count": 14,
   "metadata": {},
   "outputs": [
    {
     "name": "stdout",
     "output_type": "stream",
     "text": [
      "Accuracy :0.991\n",
      "Precision :0.991012497703094\n",
      "Recall :0.9911661516942539\n",
      "F1 Score :0.9910597797118232\n"
     ]
    },
    {
     "name": "stderr",
     "output_type": "stream",
     "text": [
      "/Users/shyhhao/anaconda3/lib/python3.7/site-packages/sklearn/metrics/classification.py:1259: UserWarning: Note that pos_label (set to 'positive') is ignored when average != 'binary' (got 'macro'). You may use labels=[pos_label] to specify a single positive class.\n",
      "  % (pos_label, average), UserWarning)\n"
     ]
    }
   ],
   "source": [
    "acc = accuracy_score(true, pred)\n",
    "rec = recall_score(true, pred, pos_label = 'positive', average ='macro') ## Weighted using macro\n",
    "pre = precision_score(true,pred, pos_label = 'positive', average ='macro') ## Weighted using macro\n",
    "f1 = f1_score(true,pred, pos_label = 'positive', average ='macro') ## Weighted using macro\n",
    "print(\"Accuracy :\" + str(acc))\n",
    "print(\"Precision :\" + str(pre))\n",
    "print(\"Recall :\" + str(rec))\n",
    "print(\"F1 Score :\" + str(f1))"
   ]
  },
  {
   "cell_type": "markdown",
   "metadata": {},
   "source": [
    "## Testing new dataset on CNN model"
   ]
  },
  {
   "cell_type": "code",
   "execution_count": 50,
   "metadata": {},
   "outputs": [
    {
     "data": {
      "text/html": [
       "<div>\n",
       "<style scoped>\n",
       "    .dataframe tbody tr th:only-of-type {\n",
       "        vertical-align: middle;\n",
       "    }\n",
       "\n",
       "    .dataframe tbody tr th {\n",
       "        vertical-align: top;\n",
       "    }\n",
       "\n",
       "    .dataframe thead th {\n",
       "        text-align: right;\n",
       "    }\n",
       "</style>\n",
       "<table border=\"1\" class=\"dataframe\">\n",
       "  <thead>\n",
       "    <tr style=\"text-align: right;\">\n",
       "      <th></th>\n",
       "      <th>face_shape</th>\n",
       "      <th>img_name</th>\n",
       "    </tr>\n",
       "  </thead>\n",
       "  <tbody>\n",
       "    <tr>\n",
       "      <th>0</th>\n",
       "      <td>1</td>\n",
       "      <td>0.png</td>\n",
       "    </tr>\n",
       "    <tr>\n",
       "      <th>1</th>\n",
       "      <td>4</td>\n",
       "      <td>1.png</td>\n",
       "    </tr>\n",
       "    <tr>\n",
       "      <th>2</th>\n",
       "      <td>2</td>\n",
       "      <td>2.png</td>\n",
       "    </tr>\n",
       "    <tr>\n",
       "      <th>3</th>\n",
       "      <td>2</td>\n",
       "      <td>3.png</td>\n",
       "    </tr>\n",
       "    <tr>\n",
       "      <th>4</th>\n",
       "      <td>3</td>\n",
       "      <td>4.png</td>\n",
       "    </tr>\n",
       "    <tr>\n",
       "      <th>...</th>\n",
       "      <td>...</td>\n",
       "      <td>...</td>\n",
       "    </tr>\n",
       "    <tr>\n",
       "      <th>2495</th>\n",
       "      <td>4</td>\n",
       "      <td>2495.png</td>\n",
       "    </tr>\n",
       "    <tr>\n",
       "      <th>2496</th>\n",
       "      <td>4</td>\n",
       "      <td>2496.png</td>\n",
       "    </tr>\n",
       "    <tr>\n",
       "      <th>2497</th>\n",
       "      <td>4</td>\n",
       "      <td>2497.png</td>\n",
       "    </tr>\n",
       "    <tr>\n",
       "      <th>2498</th>\n",
       "      <td>4</td>\n",
       "      <td>2498.png</td>\n",
       "    </tr>\n",
       "    <tr>\n",
       "      <th>2499</th>\n",
       "      <td>4</td>\n",
       "      <td>2499.png</td>\n",
       "    </tr>\n",
       "  </tbody>\n",
       "</table>\n",
       "<p>2500 rows × 2 columns</p>\n",
       "</div>"
      ],
      "text/plain": [
       "     face_shape  img_name\n",
       "0             1     0.png\n",
       "1             4     1.png\n",
       "2             2     2.png\n",
       "3             2     3.png\n",
       "4             3     4.png\n",
       "...         ...       ...\n",
       "2495          4  2495.png\n",
       "2496          4  2496.png\n",
       "2497          4  2497.png\n",
       "2498          4  2498.png\n",
       "2499          4  2499.png\n",
       "\n",
       "[2500 rows x 2 columns]"
      ]
     },
     "execution_count": 50,
     "metadata": {},
     "output_type": "execute_result"
    }
   ],
   "source": [
    "df_new = pd.read_csv(\"/Users/shyhhao/Documents/dataset_test_AMLS_19-20/cartoon_set_test/labels.csv\")\n",
    "df_new = pd.DataFrame(df_new).reset_index()\n",
    "df_new.columns = ['Index', 'Total']\n",
    "del df_new['Index']\n",
    "df_new['eye_color'] = df_new['Total'].str.split('\\t').str[1]\n",
    "df_new['face_shape'] = df_new['Total'].str.split('\\t').str[2]\n",
    "df_new['img_name'] = df_new['Total'].str.split('\\t').str[3]\n",
    "del df_new['Total']\n",
    "del df_new['eye_color']\n",
    "df_new"
   ]
  },
  {
   "cell_type": "code",
   "execution_count": 51,
   "metadata": {},
   "outputs": [],
   "source": [
    "newdir = '/Users/shyhhao/Documents/dataset_test_AMLS_19-20/cartoon_set_test/img'"
   ]
  },
  {
   "cell_type": "code",
   "execution_count": 54,
   "metadata": {},
   "outputs": [
    {
     "name": "stdout",
     "output_type": "stream",
     "text": [
      "Found 625 validated image filenames belonging to 5 classes.\n"
     ]
    }
   ],
   "source": [
    "val_gen_new = data.flow_from_dataframe(dataframe = df_new,\n",
    "                                   directory = newdir,\n",
    "                                   x_col = xcol,\n",
    "                                   y_col = ycol,\n",
    "                                   class_mode = 'categorical',\n",
    "                                   target_size = (64,64),\n",
    "                                   batch_size = 64,\n",
    "                                   subset = 'validation'\n",
    "                                  )"
   ]
  },
  {
   "cell_type": "code",
   "execution_count": 55,
   "metadata": {},
   "outputs": [
    {
     "name": "stdout",
     "output_type": "stream",
     "text": [
      "Generating predictions from validation data..\n"
     ]
    },
    {
     "data": {
      "image/png": "[encoded data removed]",
      "text/plain": [
       "<Figure size 432x288 with 2 Axes>"
      ]
     },
     "metadata": {
      "needs_background": "light"
     },
     "output_type": "display_data"
    }
   ],
   "source": [
    "print(\"Generating predictions from validation data..\")\n",
    "\n",
    "x_test_new = val_gen_new[0][0]\n",
    "y_test_new = val_gen_new[0][1]\n",
    "\n",
    "class_probabilities = model.predict(x_test_new)\n",
    "\n",
    "predictions = np.argmax(class_probabilities, axis=1)\n",
    "\n",
    "true_labels = np.argmax(y_test_new, axis=1)\n",
    "\n",
    "classes = [\"0\", \"1\", \"2\", \"3\" , \"4\"]\n",
    "\n",
    "cm_new = confusion_matrix(true_labels, predictions)\n",
    "# print(cm)\n",
    "\n",
    "plt.imshow(cm_new, interpolation=\"nearest\", cmap=plt.cm.Reds)\n",
    "plt.colorbar()\n",
    "tick_marks = np.arange(len(classes))\n",
    "plt.title('Confusion Matrix')\n",
    "plt.xlabel(\"Predicted Class\")\n",
    "plt.ylabel(\"True Class\")\n",
    "plt.show()"
   ]
  },
  {
   "cell_type": "markdown",
   "metadata": {},
   "source": []
  }
 ],
 "metadata": {
  "kernelspec": {
   "display_name": "Python 3",
   "language": "python",
   "name": "python3"
  },
  "language_info": {
   "codemirror_mode": {
    "name": "ipython",
    "version": 3
   },
   "file_extension": ".py",
   "mimetype": "text/x-python",
   "name": "python",
   "nbconvert_exporter": "python",
   "pygments_lexer": "ipython3",
   "version": "3.7.3"
  }
 },
 "nbformat": 4,
 "nbformat_minor": 4
}
